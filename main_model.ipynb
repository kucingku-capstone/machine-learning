{
  "cells": [
    {
      "cell_type": "markdown",
      "metadata": {
        "id": "TrWXErSxVlqz"
      },
      "source": [
        "# **Collaborative Flitering**\n",
        "\n"
      ]
    },
    {
      "cell_type": "markdown",
      "metadata": {
        "id": "JybUGwoOWiGW"
      },
      "source": [
        "Import Library"
      ]
    },
    {
      "cell_type": "code",
      "execution_count": 1,
      "metadata": {
        "id": "zWRW9ASvVS5Q"
      },
      "outputs": [],
      "source": [
        "import tensorflow as tf\n",
        "import numpy as np\n",
        "import pandas as pd\n",
        "from sklearn.model_selection import train_test_split\n",
        "from tensorflow.keras.models import Model\n",
        "from tensorflow.keras.layers import Input, Embedding, Flatten, Concatenate, Dense\n",
        "from tensorflow.keras.optimizers import Adam\n",
        "from sklearn.feature_extraction.text import TfidfVectorizer\n",
        "from sklearn.metrics.pairwise import linear_kernel\n",
        "from sklearn.metrics.pairwise import cosine_similarity\n",
        "from sklearn.preprocessing import LabelEncoder\n",
        "from scipy.sparse import csr_matrix\n",
        "from sklearn.model_selection import KFold"
      ]
    },
    {
      "cell_type": "markdown",
      "metadata": {
        "id": "AVmuxIbx69OJ"
      },
      "source": [
        "# **Load Dataset**"
      ]
    },
    {
      "cell_type": "code",
      "execution_count": 3,
      "metadata": {
        "id": "vAjNd0cgcR-I"
      },
      "outputs": [
        {
          "data": {
            "text/html": [
              "<div>\n",
              "<style scoped>\n",
              "    .dataframe tbody tr th:only-of-type {\n",
              "        vertical-align: middle;\n",
              "    }\n",
              "\n",
              "    .dataframe tbody tr th {\n",
              "        vertical-align: top;\n",
              "    }\n",
              "\n",
              "    .dataframe thead th {\n",
              "        text-align: right;\n",
              "    }\n",
              "</style>\n",
              "<table border=\"1\" class=\"dataframe\">\n",
              "  <thead>\n",
              "    <tr style=\"text-align: right;\">\n",
              "      <th></th>\n",
              "      <th>cat_id</th>\n",
              "      <th>type</th>\n",
              "      <th>age</th>\n",
              "      <th>gender</th>\n",
              "      <th>size</th>\n",
              "      <th>coat</th>\n",
              "      <th>breed</th>\n",
              "      <th>user_id</th>\n",
              "      <th>rating</th>\n",
              "    </tr>\n",
              "  </thead>\n",
              "  <tbody>\n",
              "    <tr>\n",
              "      <th>0</th>\n",
              "      <td>46743754</td>\n",
              "      <td>Cat</td>\n",
              "      <td>Adult</td>\n",
              "      <td>Female</td>\n",
              "      <td>Medium</td>\n",
              "      <td>Short</td>\n",
              "      <td>Domestic Short Hair</td>\n",
              "      <td>12631</td>\n",
              "      <td>2.49</td>\n",
              "    </tr>\n",
              "    <tr>\n",
              "      <th>1</th>\n",
              "      <td>46750373</td>\n",
              "      <td>Cat</td>\n",
              "      <td>Baby</td>\n",
              "      <td>Female</td>\n",
              "      <td>Medium</td>\n",
              "      <td>Short</td>\n",
              "      <td>Domestic Short Hair</td>\n",
              "      <td>3747</td>\n",
              "      <td>4.40</td>\n",
              "    </tr>\n",
              "    <tr>\n",
              "      <th>2</th>\n",
              "      <td>46722526</td>\n",
              "      <td>Cat</td>\n",
              "      <td>Baby</td>\n",
              "      <td>Male</td>\n",
              "      <td>Small</td>\n",
              "      <td>Short</td>\n",
              "      <td>Domestic Short Hair</td>\n",
              "      <td>9182</td>\n",
              "      <td>2.11</td>\n",
              "    </tr>\n",
              "    <tr>\n",
              "      <th>3</th>\n",
              "      <td>46725832</td>\n",
              "      <td>Cat</td>\n",
              "      <td>Baby</td>\n",
              "      <td>Male</td>\n",
              "      <td>Medium</td>\n",
              "      <td>Short</td>\n",
              "      <td>Domestic Short Hair</td>\n",
              "      <td>1092</td>\n",
              "      <td>3.43</td>\n",
              "    </tr>\n",
              "    <tr>\n",
              "      <th>4</th>\n",
              "      <td>46728797</td>\n",
              "      <td>Cat</td>\n",
              "      <td>Baby</td>\n",
              "      <td>Female</td>\n",
              "      <td>Small</td>\n",
              "      <td>Short</td>\n",
              "      <td>Domestic Short Hair</td>\n",
              "      <td>8769</td>\n",
              "      <td>3.49</td>\n",
              "    </tr>\n",
              "    <tr>\n",
              "      <th>...</th>\n",
              "      <td>...</td>\n",
              "      <td>...</td>\n",
              "      <td>...</td>\n",
              "      <td>...</td>\n",
              "      <td>...</td>\n",
              "      <td>...</td>\n",
              "      <td>...</td>\n",
              "      <td>...</td>\n",
              "      <td>...</td>\n",
              "    </tr>\n",
              "    <tr>\n",
              "      <th>34683</th>\n",
              "      <td>41835694</td>\n",
              "      <td>Cat</td>\n",
              "      <td>Adult</td>\n",
              "      <td>Male</td>\n",
              "      <td>Medium</td>\n",
              "      <td>Hairless</td>\n",
              "      <td>Devon Rex</td>\n",
              "      <td>12417</td>\n",
              "      <td>3.72</td>\n",
              "    </tr>\n",
              "    <tr>\n",
              "      <th>34684</th>\n",
              "      <td>32014398</td>\n",
              "      <td>Cat</td>\n",
              "      <td>Young</td>\n",
              "      <td>Female</td>\n",
              "      <td>Medium</td>\n",
              "      <td>Short</td>\n",
              "      <td>Devon Rex</td>\n",
              "      <td>2488</td>\n",
              "      <td>3.00</td>\n",
              "    </tr>\n",
              "    <tr>\n",
              "      <th>34685</th>\n",
              "      <td>18561969</td>\n",
              "      <td>Cat</td>\n",
              "      <td>Adult</td>\n",
              "      <td>Female</td>\n",
              "      <td>Medium</td>\n",
              "      <td>Short</td>\n",
              "      <td>Devon Rex</td>\n",
              "      <td>1656</td>\n",
              "      <td>4.01</td>\n",
              "    </tr>\n",
              "    <tr>\n",
              "      <th>34686</th>\n",
              "      <td>24633479</td>\n",
              "      <td>Cat</td>\n",
              "      <td>Senior</td>\n",
              "      <td>Male</td>\n",
              "      <td>Large</td>\n",
              "      <td>Short</td>\n",
              "      <td>Devon Rex</td>\n",
              "      <td>3268</td>\n",
              "      <td>2.46</td>\n",
              "    </tr>\n",
              "    <tr>\n",
              "      <th>34687</th>\n",
              "      <td>36367826</td>\n",
              "      <td>Cat</td>\n",
              "      <td>Baby</td>\n",
              "      <td>Female</td>\n",
              "      <td>Small</td>\n",
              "      <td>Short</td>\n",
              "      <td>Devon Rex</td>\n",
              "      <td>11876</td>\n",
              "      <td>2.43</td>\n",
              "    </tr>\n",
              "  </tbody>\n",
              "</table>\n",
              "<p>34688 rows × 9 columns</p>\n",
              "</div>"
            ],
            "text/plain": [
              "         cat_id type     age  gender    size      coat                breed   \n",
              "0      46743754  Cat   Adult  Female  Medium     Short  Domestic Short Hair  \\\n",
              "1      46750373  Cat    Baby  Female  Medium     Short  Domestic Short Hair   \n",
              "2      46722526  Cat    Baby    Male   Small     Short  Domestic Short Hair   \n",
              "3      46725832  Cat    Baby    Male  Medium     Short  Domestic Short Hair   \n",
              "4      46728797  Cat    Baby  Female   Small     Short  Domestic Short Hair   \n",
              "...         ...  ...     ...     ...     ...       ...                  ...   \n",
              "34683  41835694  Cat   Adult    Male  Medium  Hairless            Devon Rex   \n",
              "34684  32014398  Cat   Young  Female  Medium     Short            Devon Rex   \n",
              "34685  18561969  Cat   Adult  Female  Medium     Short            Devon Rex   \n",
              "34686  24633479  Cat  Senior    Male   Large     Short            Devon Rex   \n",
              "34687  36367826  Cat    Baby  Female   Small     Short            Devon Rex   \n",
              "\n",
              "       user_id  rating  \n",
              "0        12631    2.49  \n",
              "1         3747    4.40  \n",
              "2         9182    2.11  \n",
              "3         1092    3.43  \n",
              "4         8769    3.49  \n",
              "...        ...     ...  \n",
              "34683    12417    3.72  \n",
              "34684     2488    3.00  \n",
              "34685     1656    4.01  \n",
              "34686     3268    2.46  \n",
              "34687    11876    2.43  \n",
              "\n",
              "[34688 rows x 9 columns]"
            ]
          },
          "execution_count": 3,
          "metadata": {},
          "output_type": "execute_result"
        }
      ],
      "source": [
        "# Step 1: Load dataset\n",
        "df = pd.read_csv('https://raw.githubusercontent.com/kucingku-capstone/machine-learning/main/dataset/clean_cats_dataset.csv')\n",
        "df"
      ]
    },
    {
      "cell_type": "markdown",
      "metadata": {
        "id": "LjmpcOJ2f2ds"
      },
      "source": [
        "# **Data Preprocessing**"
      ]
    },
    {
      "cell_type": "code",
      "execution_count": 6,
      "metadata": {
        "id": "C-0D1qNZc0Cq"
      },
      "outputs": [],
      "source": [
        "# Step 2: Data preprocessing\n",
        "user_encoder = LabelEncoder()\n",
        "cat_encoder = LabelEncoder()\n",
        "\n",
        "df['user_id'] = user_encoder.fit_transform(df['user_id'].astype(float))\n",
        "df['cat_id'] = cat_encoder.fit_transform(df['cat_id'].astype(float))\n"
      ]
    },
    {
      "cell_type": "markdown",
      "metadata": {
        "id": "Zvohe6GCf3CX"
      },
      "source": [
        "# **Split Dataset into Training and Testing Sets**"
      ]
    },
    {
      "cell_type": "code",
      "execution_count": 7,
      "metadata": {
        "id": "RUU5_ehUc2Pc"
      },
      "outputs": [],
      "source": [
        "# Step 3: Split the dataset into training and testing sets\n",
        "train_df, test_df = train_test_split(df, test_size=0.2, random_state=42)\n"
      ]
    },
    {
      "cell_type": "markdown",
      "metadata": {
        "id": "gr9_oIvPf3xA"
      },
      "source": [
        "# **Create Collaborative Filtering Model using TensorFlow**"
      ]
    },
    {
      "cell_type": "code",
      "execution_count": 8,
      "metadata": {
        "id": "SIS-nQfnc-Y-"
      },
      "outputs": [],
      "source": [
        "# Step 4: Create the collaborative filtering model using TensorFlow\n",
        "num_users = len(user_encoder.classes_)\n",
        "num_cats = len(cat_encoder.classes_)\n",
        "embedding_size = 50\n",
        "\n",
        "# User embedding layer\n",
        "user_input = Input(shape=(1,), name='user_input')\n",
        "user_embedding = Embedding(input_dim=num_users, output_dim=embedding_size, input_length=1)(user_input)\n",
        "user_embedding = Flatten()(user_embedding)\n",
        "\n",
        "# Cat embedding layer\n",
        "cat_input = Input(shape=(1,), name='cat_input')\n",
        "cat_embedding = Embedding(input_dim=num_cats, output_dim=embedding_size, input_length=1)(cat_input)\n",
        "cat_embedding = Flatten()(cat_embedding)\n",
        "\n",
        "# Concatenate user and cat embeddings\n",
        "concatenated = Concatenate()([user_embedding, cat_embedding])\n",
        "\n",
        "# Add additional dense layers\n",
        "dense_layer_1 = Dense(128, activation='relu')(concatenated)\n",
        "dense_layer_2 = Dense(64, activation='relu')(dense_layer_1)\n",
        "\n",
        "# Dot product of user and cat embeddings\n",
        "dot_product = Dense(1, activation='linear')(dense_layer_2)\n",
        "\n",
        "# Combine all layers into a model\n",
        "model = Model(inputs=[user_input, cat_input], outputs=dot_product)\n",
        "\n",
        "# Compile the model\n",
        "model.compile(optimizer=Adam(learning_rate=0.001), loss='mean_squared_error')\n"
      ]
    },
    {
      "cell_type": "markdown",
      "metadata": {
        "id": "Isv0adHqf4zf"
      },
      "source": [
        "# Train the Model"
      ]
    },
    {
      "cell_type": "code",
      "execution_count": 9,
      "metadata": {
        "colab": {
          "base_uri": "https://localhost:8080/"
        },
        "id": "q7QXiDHOdBbG",
        "outputId": "bf616729-f917-4bee-9910-787b99d1e0fd"
      },
      "outputs": [
        {
          "name": "stdout",
          "output_type": "stream",
          "text": [
            "Epoch 1/10\n",
            "347/347 [==============================] - 10s 26ms/step - loss: 1.8784 - val_loss: 0.8842\n",
            "Epoch 2/10\n",
            "347/347 [==============================] - 9s 26ms/step - loss: 0.5228 - val_loss: 1.0045\n",
            "Epoch 3/10\n",
            "347/347 [==============================] - 9s 25ms/step - loss: 0.2372 - val_loss: 0.9681\n",
            "Epoch 4/10\n",
            "347/347 [==============================] - 9s 25ms/step - loss: 0.0688 - val_loss: 0.9619\n",
            "Epoch 5/10\n",
            "347/347 [==============================] - 9s 26ms/step - loss: 0.0523 - val_loss: 0.9460\n",
            "Epoch 6/10\n",
            "347/347 [==============================] - 10s 29ms/step - loss: 0.0412 - val_loss: 0.9507\n",
            "Epoch 7/10\n",
            "347/347 [==============================] - 9s 26ms/step - loss: 0.0364 - val_loss: 0.9457\n",
            "Epoch 8/10\n",
            "347/347 [==============================] - 9s 25ms/step - loss: 0.0366 - val_loss: 0.9407\n",
            "Epoch 9/10\n",
            "347/347 [==============================] - 8s 24ms/step - loss: 0.0325 - val_loss: 0.9386\n",
            "Epoch 10/10\n",
            "347/347 [==============================] - 9s 27ms/step - loss: 0.0308 - val_loss: 0.9306\n"
          ]
        }
      ],
      "source": [
        "# Train the model\n",
        "history = model.fit(\n",
        "    x=[train_df['user_id'], train_df['cat_id']],\n",
        "    y=train_df['rating'],\n",
        "    epochs=10,\n",
        "    batch_size=64,\n",
        "    validation_split=0.2\n",
        ")"
      ]
    },
    {
      "cell_type": "markdown",
      "metadata": {
        "id": "ku_cd2-hf5qM"
      },
      "source": [
        "# **Evaluate the Model on the Test Set**"
      ]
    },
    {
      "cell_type": "code",
      "execution_count": 10,
      "metadata": {
        "colab": {
          "base_uri": "https://localhost:8080/"
        },
        "id": "camTf-gNdCLk",
        "outputId": "fa65ec42-4846-4f9c-fb63-8d73b6a0e69b"
      },
      "outputs": [
        {
          "name": "stdout",
          "output_type": "stream",
          "text": [
            "217/217 [==============================] - 0s 1ms/step - loss: 0.9330\n",
            "Test Loss: 0.9330015182495117\n"
          ]
        }
      ],
      "source": [
        "# Step 5: Evaluate the model on the test set\n",
        "test_loss = model.evaluate(x=[test_df['user_id'], test_df['cat_id']], y=test_df['rating'])\n",
        "print(f'Test Loss: {test_loss}')"
      ]
    },
    {
      "cell_type": "markdown",
      "metadata": {
        "id": "tZf0Qrw9f6In"
      },
      "source": [
        "# **Make Predictions**"
      ]
    },
    {
      "cell_type": "code",
      "execution_count": 11,
      "metadata": {
        "colab": {
          "base_uri": "https://localhost:8080/"
        },
        "id": "Uy_apT61dJqe",
        "outputId": "70168e91-0dfa-452c-96e9-6f65943167eb"
      },
      "outputs": [
        {
          "name": "stdout",
          "output_type": "stream",
          "text": [
            "1084/1084 [==============================] - 1s 1ms/step\n",
            "[23582. 28807.  5090. 18356. 12696.]\n"
          ]
        }
      ],
      "source": [
        "# Rest of the code for making predictions...\n",
        "# Step 6: Make predictions for a specific user\n",
        "user_index_example = 0\n",
        "user_input_example = np.array([user_index_example])\n",
        "\n",
        "# Provide a single cat index for each prediction\n",
        "cat_indices = np.arange(num_cats)\n",
        "\n",
        "# Reshape user input to have the same shape as cat_indices\n",
        "user_input_example = np.repeat(user_input_example, num_cats)\n",
        "\n",
        "predictions = model.predict([user_input_example, cat_indices])\n",
        "\n",
        "# Get top recommendations\n",
        "top_cat_indices = np.argsort(predictions.flatten())[::-1][:5]\n",
        "top_cat_ids = cat_encoder.inverse_transform(top_cat_indices)\n",
        "\n",
        "print(top_cat_ids)"
      ]
    },
    {
      "cell_type": "markdown",
      "metadata": {
        "id": "5m9MqxASf6xN"
      },
      "source": [
        "# **Save Model To H5**"
      ]
    },
    {
      "cell_type": "code",
      "execution_count": 13,
      "metadata": {
        "colab": {
          "base_uri": "https://localhost:8080/"
        },
        "id": "FGS4MCWwerWB",
        "outputId": "1b1d24a7-c0f9-448e-e300-ee337d5b11ee"
      },
      "outputs": [
        {
          "name": "stderr",
          "output_type": "stream",
          "text": [
            "/usr/local/lib/python3.10/dist-packages/keras/src/engine/training.py:3079: UserWarning: You are saving your model as an HDF5 file via `model.save()`. This file format is considered legacy. We recommend using instead the native Keras format, e.g. `model.save('my_model.keras')`.\n",
            "  saving_api.save_model(\n"
          ]
        }
      ],
      "source": [
        "# Save model to h5\n",
        "model.save(\"collaborative_model.h5\")"
      ]
    },
    {
      "cell_type": "markdown",
      "metadata": {
        "id": "n1pV9hxgf7ef"
      },
      "source": [
        "# **Loss Test from model**"
      ]
    },
    {
      "cell_type": "code",
      "execution_count": 15,
      "metadata": {
        "colab": {
          "base_uri": "https://localhost:8080/"
        },
        "id": "GHPy1U_Zewp9",
        "outputId": "ccf4fb23-4fe5-4c2b-8981-e388e74f8460"
      },
      "outputs": [
        {
          "name": "stdout",
          "output_type": "stream",
          "text": [
            "217/217 [==============================] - 1s 2ms/step - loss: 0.9238\n",
            "Test Loss: 0.923750102519989\n"
          ]
        }
      ],
      "source": [
        "# Load the model from the h5 file\n",
        "loaded_model = tf.keras.models.load_model(\"collaborative_model.h5\")\n",
        "\n",
        "# Evaluate the loaded model on the test set\n",
        "test_loss = loaded_model.evaluate(x=[test_df['user_id'], test_df['cat_id']], y=test_df['rating'])\n",
        "print(f'Test Loss: {test_loss}')"
      ]
    },
    {
      "cell_type": "markdown",
      "metadata": {
        "id": "I9FUZzAnf9I-"
      },
      "source": [
        "# **Convert to TFLITE**"
      ]
    },
    {
      "cell_type": "code",
      "execution_count": 17,
      "metadata": {
        "id": "5lQQpdPGe-Za"
      },
      "outputs": [],
      "source": [
        "import tensorflow as tf\n",
        "\n",
        "# Load the Keras model\n",
        "loaded_model = tf.keras.models.load_model(\"collaborative_model.h5\")\n",
        "\n",
        "# Convert the Keras model to TensorFlow Lite format\n",
        "converter = tf.lite.TFLiteConverter.from_keras_model(loaded_model)\n",
        "tflite_model = converter.convert()\n",
        "\n",
        "# Save the TensorFlow Lite model to a file\n",
        "with open(\"collaborative_model.tflite\", \"wb\") as f:\n",
        "    f.write(tflite_model)\n"
      ]
    }
  ],
  "metadata": {
    "colab": {
      "provenance": []
    },
    "kernelspec": {
      "display_name": "Python 3",
      "name": "python3"
    },
    "language_info": {
      "codemirror_mode": {
        "name": "ipython",
        "version": 3
      },
      "file_extension": ".py",
      "mimetype": "text/x-python",
      "name": "python",
      "nbconvert_exporter": "python",
      "pygments_lexer": "ipython3",
      "version": "3.11.7"
    }
  },
  "nbformat": 4,
  "nbformat_minor": 0
}
