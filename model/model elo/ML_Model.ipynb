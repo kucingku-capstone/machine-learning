{
  "cells": [
    {
      "cell_type": "markdown",
      "metadata": {
        "id": "0TgQSTJ9Jwhy"
      },
      "source": [
        "Import Library\n"
      ]
    },
    {
      "cell_type": "code",
      "execution_count": 47,
      "metadata": {
        "id": "tZD0dQzgJoGI"
      },
      "outputs": [],
      "source": [
        "import pandas as pd\n",
        "import numpy as np\n",
        "from sklearn.model_selection import train_test_split\n",
        "from sklearn.preprocessing import LabelEncoder\n",
        "import tensorflow as tf\n",
        "from tensorflow.keras.models import Model\n",
        "from tensorflow.keras.layers import Input, Embedding, Flatten, Dense, Concatenate\n",
        "from tensorflow.keras.optimizers import Adam"
      ]
    },
    {
      "cell_type": "markdown",
      "metadata": {
        "id": "9jtSSFZIJ0cz"
      },
      "source": [
        "Load Dataset"
      ]
    },
    {
      "cell_type": "code",
      "execution_count": 48,
      "metadata": {
        "colab": {
          "base_uri": "https://localhost:8080/",
          "height": 634
        },
        "id": "IfYVzP3dJ5sw",
        "outputId": "ab1b07a4-b4d6-4a50-a9ae-9b54b1e24370"
      },
      "outputs": [
        {
          "data": {
            "text/html": [
              "<div>\n",
              "<style scoped>\n",
              "    .dataframe tbody tr th:only-of-type {\n",
              "        vertical-align: middle;\n",
              "    }\n",
              "\n",
              "    .dataframe tbody tr th {\n",
              "        vertical-align: top;\n",
              "    }\n",
              "\n",
              "    .dataframe thead th {\n",
              "        text-align: right;\n",
              "    }\n",
              "</style>\n",
              "<table border=\"1\" class=\"dataframe\">\n",
              "  <thead>\n",
              "    <tr style=\"text-align: right;\">\n",
              "      <th></th>\n",
              "      <th>cat_id</th>\n",
              "      <th>type</th>\n",
              "      <th>age</th>\n",
              "      <th>gender</th>\n",
              "      <th>size</th>\n",
              "      <th>coat</th>\n",
              "      <th>breed</th>\n",
              "      <th>user_id</th>\n",
              "      <th>rating</th>\n",
              "    </tr>\n",
              "  </thead>\n",
              "  <tbody>\n",
              "    <tr>\n",
              "      <th>0</th>\n",
              "      <td>46743754</td>\n",
              "      <td>Cat</td>\n",
              "      <td>Adult</td>\n",
              "      <td>Female</td>\n",
              "      <td>Medium</td>\n",
              "      <td>Short</td>\n",
              "      <td>Domestic Short Hair</td>\n",
              "      <td>12631</td>\n",
              "      <td>2.49</td>\n",
              "    </tr>\n",
              "    <tr>\n",
              "      <th>1</th>\n",
              "      <td>46750373</td>\n",
              "      <td>Cat</td>\n",
              "      <td>Baby</td>\n",
              "      <td>Female</td>\n",
              "      <td>Medium</td>\n",
              "      <td>Short</td>\n",
              "      <td>Domestic Short Hair</td>\n",
              "      <td>3747</td>\n",
              "      <td>4.40</td>\n",
              "    </tr>\n",
              "    <tr>\n",
              "      <th>2</th>\n",
              "      <td>46722526</td>\n",
              "      <td>Cat</td>\n",
              "      <td>Baby</td>\n",
              "      <td>Male</td>\n",
              "      <td>Small</td>\n",
              "      <td>Short</td>\n",
              "      <td>Domestic Short Hair</td>\n",
              "      <td>9182</td>\n",
              "      <td>2.11</td>\n",
              "    </tr>\n",
              "    <tr>\n",
              "      <th>3</th>\n",
              "      <td>46725832</td>\n",
              "      <td>Cat</td>\n",
              "      <td>Baby</td>\n",
              "      <td>Male</td>\n",
              "      <td>Medium</td>\n",
              "      <td>Short</td>\n",
              "      <td>Domestic Short Hair</td>\n",
              "      <td>1092</td>\n",
              "      <td>3.43</td>\n",
              "    </tr>\n",
              "    <tr>\n",
              "      <th>4</th>\n",
              "      <td>46728797</td>\n",
              "      <td>Cat</td>\n",
              "      <td>Baby</td>\n",
              "      <td>Female</td>\n",
              "      <td>Small</td>\n",
              "      <td>Short</td>\n",
              "      <td>Domestic Short Hair</td>\n",
              "      <td>8769</td>\n",
              "      <td>3.49</td>\n",
              "    </tr>\n",
              "    <tr>\n",
              "      <th>...</th>\n",
              "      <td>...</td>\n",
              "      <td>...</td>\n",
              "      <td>...</td>\n",
              "      <td>...</td>\n",
              "      <td>...</td>\n",
              "      <td>...</td>\n",
              "      <td>...</td>\n",
              "      <td>...</td>\n",
              "      <td>...</td>\n",
              "    </tr>\n",
              "    <tr>\n",
              "      <th>34683</th>\n",
              "      <td>41835694</td>\n",
              "      <td>Cat</td>\n",
              "      <td>Adult</td>\n",
              "      <td>Male</td>\n",
              "      <td>Medium</td>\n",
              "      <td>Hairless</td>\n",
              "      <td>Devon Rex</td>\n",
              "      <td>12417</td>\n",
              "      <td>3.72</td>\n",
              "    </tr>\n",
              "    <tr>\n",
              "      <th>34684</th>\n",
              "      <td>32014398</td>\n",
              "      <td>Cat</td>\n",
              "      <td>Young</td>\n",
              "      <td>Female</td>\n",
              "      <td>Medium</td>\n",
              "      <td>Short</td>\n",
              "      <td>Devon Rex</td>\n",
              "      <td>2488</td>\n",
              "      <td>3.00</td>\n",
              "    </tr>\n",
              "    <tr>\n",
              "      <th>34685</th>\n",
              "      <td>18561969</td>\n",
              "      <td>Cat</td>\n",
              "      <td>Adult</td>\n",
              "      <td>Female</td>\n",
              "      <td>Medium</td>\n",
              "      <td>Short</td>\n",
              "      <td>Devon Rex</td>\n",
              "      <td>1656</td>\n",
              "      <td>4.01</td>\n",
              "    </tr>\n",
              "    <tr>\n",
              "      <th>34686</th>\n",
              "      <td>24633479</td>\n",
              "      <td>Cat</td>\n",
              "      <td>Senior</td>\n",
              "      <td>Male</td>\n",
              "      <td>Large</td>\n",
              "      <td>Short</td>\n",
              "      <td>Devon Rex</td>\n",
              "      <td>3268</td>\n",
              "      <td>2.46</td>\n",
              "    </tr>\n",
              "    <tr>\n",
              "      <th>34687</th>\n",
              "      <td>36367826</td>\n",
              "      <td>Cat</td>\n",
              "      <td>Baby</td>\n",
              "      <td>Female</td>\n",
              "      <td>Small</td>\n",
              "      <td>Short</td>\n",
              "      <td>Devon Rex</td>\n",
              "      <td>11876</td>\n",
              "      <td>2.43</td>\n",
              "    </tr>\n",
              "  </tbody>\n",
              "</table>\n",
              "<p>34688 rows × 9 columns</p>\n",
              "</div>"
            ],
            "text/plain": [
              "         cat_id type     age  gender    size      coat                breed   \n",
              "0      46743754  Cat   Adult  Female  Medium     Short  Domestic Short Hair  \\\n",
              "1      46750373  Cat    Baby  Female  Medium     Short  Domestic Short Hair   \n",
              "2      46722526  Cat    Baby    Male   Small     Short  Domestic Short Hair   \n",
              "3      46725832  Cat    Baby    Male  Medium     Short  Domestic Short Hair   \n",
              "4      46728797  Cat    Baby  Female   Small     Short  Domestic Short Hair   \n",
              "...         ...  ...     ...     ...     ...       ...                  ...   \n",
              "34683  41835694  Cat   Adult    Male  Medium  Hairless            Devon Rex   \n",
              "34684  32014398  Cat   Young  Female  Medium     Short            Devon Rex   \n",
              "34685  18561969  Cat   Adult  Female  Medium     Short            Devon Rex   \n",
              "34686  24633479  Cat  Senior    Male   Large     Short            Devon Rex   \n",
              "34687  36367826  Cat    Baby  Female   Small     Short            Devon Rex   \n",
              "\n",
              "       user_id  rating  \n",
              "0        12631    2.49  \n",
              "1         3747    4.40  \n",
              "2         9182    2.11  \n",
              "3         1092    3.43  \n",
              "4         8769    3.49  \n",
              "...        ...     ...  \n",
              "34683    12417    3.72  \n",
              "34684     2488    3.00  \n",
              "34685     1656    4.01  \n",
              "34686     3268    2.46  \n",
              "34687    11876    2.43  \n",
              "\n",
              "[34688 rows x 9 columns]"
            ]
          },
          "execution_count": 48,
          "metadata": {},
          "output_type": "execute_result"
        }
      ],
      "source": [
        "df = pd.read_csv('https://raw.githubusercontent.com/kucingku-capstone/machine-learning/main/dataset/clean_cats_dataset.csv')\n",
        "df"
      ]
    },
    {
      "cell_type": "code",
      "execution_count": 49,
      "metadata": {
        "colab": {
          "base_uri": "https://localhost:8080/",
          "height": 894
        },
        "id": "ZOT5bAxfkbUC",
        "outputId": "3339de75-eebd-42de-e447-f8d688bb33e9"
      },
      "outputs": [
        {
          "data": {
            "image/png": "[encoded data removed]",
            "text/plain": [
              "<Figure size 1500x1000 with 4 Axes>"
            ]
          },
          "metadata": {},
          "output_type": "display_data"
        }
      ],
      "source": [
        "import matplotlib.pyplot as plt\n",
        "import seaborn as sns\n",
        "\n",
        "# Visualize 4 main category in dateset\n",
        "plt.figure(figsize=(15, 10))\n",
        "\n",
        "plt.subplot(2, 3, 1)\n",
        "sns.countplot(x='gender', data=df)\n",
        "plt.title('Gender Distribution')\n",
        "plt.xlabel('Gender')\n",
        "plt.ylabel('Count')\n",
        "\n",
        "plt.subplot(2, 3, 2)\n",
        "sns.countplot(x='size', data=df)\n",
        "plt.title('Size Distribution')\n",
        "plt.xlabel('Size')\n",
        "plt.ylabel('Count')\n",
        "\n",
        "plt.subplot(2, 3, 3)\n",
        "sns.countplot(x='age', data=df)\n",
        "plt.title('Age Distribution')\n",
        "plt.xlabel('Age')\n",
        "plt.ylabel('Count')\n",
        "\n",
        "plt.subplot(2, 3, 4)\n",
        "sns.countplot(x='coat', data=df)\n",
        "plt.title('Coat Distribution')\n",
        "plt.xlabel('Coat')\n",
        "plt.ylabel('Count')\n",
        "\n",
        "plt.tight_layout()\n",
        "plt.xticks(rotation=45)  # Rotate x-axis labels for better readability\n",
        "plt.show()\n"
      ]
    },
    {
      "cell_type": "code",
      "execution_count": 50,
      "metadata": {
        "colab": {
          "base_uri": "https://localhost:8080/",
          "height": 807
        },
        "id": "oYiqGnr_2wlI",
        "outputId": "4270f5fb-33c5-4c84-fb36-6f4683781dd1"
      },
      "outputs": [
        {
          "data": {
            "image/png": "[encoded data removed]",
            "text/plain": [
              "<Figure size 1200x800 with 1 Axes>"
            ]
          },
          "metadata": {},
          "output_type": "display_data"
        }
      ],
      "source": [
        "# Get the top N breeds for visualization (change N as needed)\n",
        "top_n_breeds = 10\n",
        "top_breeds = df['breed'].value_counts().nlargest(top_n_breeds).index\n",
        "\n",
        "# Filter the dataframe for the top breeds\n",
        "top_breeds_df = df[df['breed'].isin(top_breeds)]\n",
        "\n",
        "# Visualize the distribution of the top N breeds\n",
        "plt.figure(figsize=(12, 8))\n",
        "sns.countplot(x='breed', data=top_breeds_df, order=top_breeds, palette='viridis')\n",
        "plt.title(f'Top {top_n_breeds} Cat Breeds Distribution')\n",
        "plt.xlabel('Cat Breed')\n",
        "plt.ylabel('Count')\n",
        "plt.xticks(rotation=45, ha='right')  # Rotate x-axis labels for better readability\n",
        "plt.tight_layout()\n",
        "plt.show()"
      ]
    },
    {
      "cell_type": "markdown",
      "metadata": {
        "id": "pcr4b3BDkUBq"
      },
      "source": [
        "### Data preprocessing"
      ]
    },
    {
      "cell_type": "code",
      "execution_count": 51,
      "metadata": {
        "id": "sizb9XwIKD5x"
      },
      "outputs": [],
      "source": [
        "user_encoder = LabelEncoder()\n",
        "cat_encoder = LabelEncoder()\n",
        "gender_encoder = LabelEncoder()\n",
        "coat_encoder = LabelEncoder()\n",
        "size_encoder = LabelEncoder()\n",
        "age_encoder = LabelEncoder()"
      ]
    },
    {
      "cell_type": "code",
      "execution_count": 73,
      "metadata": {
        "id": "8nUnOypGKLgr"
      },
      "outputs": [
        {
          "data": {
            "text/html": [
              "<div>\n",
              "<style scoped>\n",
              "    .dataframe tbody tr th:only-of-type {\n",
              "        vertical-align: middle;\n",
              "    }\n",
              "\n",
              "    .dataframe tbody tr th {\n",
              "        vertical-align: top;\n",
              "    }\n",
              "\n",
              "    .dataframe thead th {\n",
              "        text-align: right;\n",
              "    }\n",
              "</style>\n",
              "<table border=\"1\" class=\"dataframe\">\n",
              "  <thead>\n",
              "    <tr style=\"text-align: right;\">\n",
              "      <th></th>\n",
              "      <th>cat_id</th>\n",
              "      <th>age</th>\n",
              "      <th>gender</th>\n",
              "      <th>size</th>\n",
              "      <th>breed</th>\n",
              "      <th>user_id</th>\n",
              "      <th>rating</th>\n",
              "    </tr>\n",
              "  </thead>\n",
              "  <tbody>\n",
              "    <tr>\n",
              "      <th>0</th>\n",
              "      <td>32429</td>\n",
              "      <td>0.0</td>\n",
              "      <td>0.0</td>\n",
              "      <td>2.0</td>\n",
              "      <td>Domestic Short Hair</td>\n",
              "      <td>12063</td>\n",
              "      <td>2.49</td>\n",
              "    </tr>\n",
              "    <tr>\n",
              "      <th>1</th>\n",
              "      <td>33042</td>\n",
              "      <td>1.0</td>\n",
              "      <td>0.0</td>\n",
              "      <td>2.0</td>\n",
              "      <td>Domestic Short Hair</td>\n",
              "      <td>3565</td>\n",
              "      <td>4.40</td>\n",
              "    </tr>\n",
              "    <tr>\n",
              "      <th>2</th>\n",
              "      <td>30669</td>\n",
              "      <td>1.0</td>\n",
              "      <td>1.0</td>\n",
              "      <td>3.0</td>\n",
              "      <td>Domestic Short Hair</td>\n",
              "      <td>8750</td>\n",
              "      <td>2.11</td>\n",
              "    </tr>\n",
              "    <tr>\n",
              "      <th>3</th>\n",
              "      <td>30926</td>\n",
              "      <td>1.0</td>\n",
              "      <td>1.0</td>\n",
              "      <td>2.0</td>\n",
              "      <td>Domestic Short Hair</td>\n",
              "      <td>1036</td>\n",
              "      <td>3.43</td>\n",
              "    </tr>\n",
              "    <tr>\n",
              "      <th>4</th>\n",
              "      <td>31121</td>\n",
              "      <td>1.0</td>\n",
              "      <td>0.0</td>\n",
              "      <td>3.0</td>\n",
              "      <td>Domestic Short Hair</td>\n",
              "      <td>8349</td>\n",
              "      <td>3.49</td>\n",
              "    </tr>\n",
              "    <tr>\n",
              "      <th>...</th>\n",
              "      <td>...</td>\n",
              "      <td>...</td>\n",
              "      <td>...</td>\n",
              "      <td>...</td>\n",
              "      <td>...</td>\n",
              "      <td>...</td>\n",
              "      <td>...</td>\n",
              "    </tr>\n",
              "    <tr>\n",
              "      <th>34683</th>\n",
              "      <td>13030</td>\n",
              "      <td>0.0</td>\n",
              "      <td>1.0</td>\n",
              "      <td>2.0</td>\n",
              "      <td>Devon Rex</td>\n",
              "      <td>11855</td>\n",
              "      <td>3.72</td>\n",
              "    </tr>\n",
              "    <tr>\n",
              "      <th>34684</th>\n",
              "      <td>5045</td>\n",
              "      <td>3.0</td>\n",
              "      <td>0.0</td>\n",
              "      <td>2.0</td>\n",
              "      <td>Devon Rex</td>\n",
              "      <td>2363</td>\n",
              "      <td>3.00</td>\n",
              "    </tr>\n",
              "    <tr>\n",
              "      <th>34685</th>\n",
              "      <td>173</td>\n",
              "      <td>0.0</td>\n",
              "      <td>0.0</td>\n",
              "      <td>2.0</td>\n",
              "      <td>Devon Rex</td>\n",
              "      <td>1572</td>\n",
              "      <td>4.01</td>\n",
              "    </tr>\n",
              "    <tr>\n",
              "      <th>34686</th>\n",
              "      <td>1364</td>\n",
              "      <td>2.0</td>\n",
              "      <td>1.0</td>\n",
              "      <td>1.0</td>\n",
              "      <td>Devon Rex</td>\n",
              "      <td>3102</td>\n",
              "      <td>2.46</td>\n",
              "    </tr>\n",
              "    <tr>\n",
              "      <th>34687</th>\n",
              "      <td>8644</td>\n",
              "      <td>1.0</td>\n",
              "      <td>0.0</td>\n",
              "      <td>3.0</td>\n",
              "      <td>Devon Rex</td>\n",
              "      <td>11343</td>\n",
              "      <td>2.43</td>\n",
              "    </tr>\n",
              "  </tbody>\n",
              "</table>\n",
              "<p>34688 rows × 7 columns</p>\n",
              "</div>"
            ],
            "text/plain": [
              "       cat_id  age  gender  size                breed  user_id  rating\n",
              "0       32429  0.0     0.0   2.0  Domestic Short Hair    12063    2.49\n",
              "1       33042  1.0     0.0   2.0  Domestic Short Hair     3565    4.40\n",
              "2       30669  1.0     1.0   3.0  Domestic Short Hair     8750    2.11\n",
              "3       30926  1.0     1.0   2.0  Domestic Short Hair     1036    3.43\n",
              "4       31121  1.0     0.0   3.0  Domestic Short Hair     8349    3.49\n",
              "...       ...  ...     ...   ...                  ...      ...     ...\n",
              "34683   13030  0.0     1.0   2.0            Devon Rex    11855    3.72\n",
              "34684    5045  3.0     0.0   2.0            Devon Rex     2363    3.00\n",
              "34685     173  0.0     0.0   2.0            Devon Rex     1572    4.01\n",
              "34686    1364  2.0     1.0   1.0            Devon Rex     3102    2.46\n",
              "34687    8644  1.0     0.0   3.0            Devon Rex    11343    2.43\n",
              "\n",
              "[34688 rows x 7 columns]"
            ]
          },
          "execution_count": 73,
          "metadata": {},
          "output_type": "execute_result"
        }
      ],
      "source": [
        "df['user_id'] = user_encoder.fit_transform(df['user_id'].astype(float))\n",
        "df['cat_id'] = cat_encoder.fit_transform(df['cat_id'].astype(float))\n",
        "df['gender'] = gender_encoder.fit_transform(df['gender'].astype(str)).astype(float)\n",
        "df['coat'] = coat_encoder.fit_transform(df['coat'].astype(str)).astype(float)\n",
        "df['size'] = size_encoder.fit_transform(df['size'].astype(str)).astype(float)\n",
        "df['age'] = age_encoder.fit_transform(df['age'].astype(str)).astype(float)\n",
        "\n",
        "df = df.drop(['coat', 'type'], axis=1)\n",
        "df\n"
      ]
    },
    {
      "cell_type": "markdown",
      "metadata": {
        "id": "uSjMQV4WkYR5"
      },
      "source": [
        "### Split the dataset into training and testing"
      ]
    },
    {
      "cell_type": "code",
      "execution_count": 74,
      "metadata": {
        "id": "E8cKmlNeK1w3"
      },
      "outputs": [],
      "source": [
        "train_df, test_df = train_test_split(df, test_size=0.2, random_state=42)"
      ]
    },
    {
      "cell_type": "markdown",
      "metadata": {
        "id": "Jc3XCh9FnYcb"
      },
      "source": [
        "### Create the collaborative filtering model using TensorFlow"
      ]
    },
    {
      "cell_type": "code",
      "execution_count": 75,
      "metadata": {
        "id": "NalW65miK4O9"
      },
      "outputs": [],
      "source": [
        "num_users = len(user_encoder.classes_)\n",
        "num_cats = len(cat_encoder.classes_)\n",
        "num_genders = len(gender_encoder.classes_)\n",
        "num_sizes = len(size_encoder.classes_)\n",
        "num_ages = len(age_encoder.classes_)"
      ]
    },
    {
      "cell_type": "code",
      "execution_count": 76,
      "metadata": {
        "id": "Pr9nRvysK67p"
      },
      "outputs": [],
      "source": [
        "embedding_size = 50"
      ]
    },
    {
      "cell_type": "code",
      "execution_count": 77,
      "metadata": {
        "id": "lNU_auk3K9Yc"
      },
      "outputs": [],
      "source": [
        "# Define input layers\n",
        "user_input = Input(shape=(1,), name='user_input')\n",
        "cat_input = Input(shape=(1,), name='cat_input')\n",
        "gender_input = Input(shape=(1,), name='gender_input')\n",
        "size_input = Input(shape=(1,), name='size_input')\n",
        "age_input = Input(shape=(1,), name='age_input')"
      ]
    },
    {
      "cell_type": "code",
      "execution_count": 78,
      "metadata": {
        "id": "gbtIC3hyLVS3"
      },
      "outputs": [],
      "source": [
        "# Define embedding layers\n",
        "user_embedding = Embedding(input_dim=num_users, output_dim=embedding_size, input_length=1)(user_input)\n",
        "cat_embedding = Embedding(input_dim=num_cats, output_dim=embedding_size, input_length=1)(cat_input)\n",
        "gender_embedding = Embedding(input_dim=num_genders, output_dim=embedding_size, input_length=1)(gender_input)\n",
        "size_embedding = Embedding(input_dim=num_sizes, output_dim=embedding_size, input_length=1)(size_input)\n",
        "age_embedding = Embedding(input_dim=num_ages, output_dim=embedding_size, input_length=1)(age_input)\n"
      ]
    },
    {
      "cell_type": "code",
      "execution_count": 79,
      "metadata": {
        "id": "GRC-4Io_LbEp"
      },
      "outputs": [],
      "source": [
        "# Flatten the embeddings\n",
        "user_embedding = Flatten()(user_embedding)\n",
        "cat_embedding = Flatten()(cat_embedding)\n",
        "gender_embedding = Flatten()(gender_embedding)\n",
        "size_embedding = Flatten()(size_embedding)\n",
        "age_embedding = Flatten()(age_embedding)"
      ]
    },
    {
      "cell_type": "code",
      "execution_count": 81,
      "metadata": {
        "id": "PFiofdURLddD"
      },
      "outputs": [],
      "source": [
        "# Concatenate all embeddings\n",
        "concatenated = Concatenate()([user_embedding, cat_embedding, gender_embedding, size_embedding, age_embedding])"
      ]
    },
    {
      "cell_type": "code",
      "execution_count": 82,
      "metadata": {
        "id": "p-6ajTX5Lfgw"
      },
      "outputs": [],
      "source": [
        "# Add additional dense layers\n",
        "dense_layer_1 = Dense(128, activation='relu')(concatenated)\n",
        "dense_layer_2 = Dense(64, activation='relu')(dense_layer_1)\n",
        "output = Dense(1)(dense_layer_2)"
      ]
    },
    {
      "cell_type": "code",
      "execution_count": 89,
      "metadata": {
        "id": "TcybgCERLh3e"
      },
      "outputs": [],
      "source": [
        "# Combine all layers into a model\n",
        "model = Model(inputs=[user_input, cat_input, gender_input, size_input, age_input], outputs=output)"
      ]
    },
    {
      "cell_type": "code",
      "execution_count": 90,
      "metadata": {
        "id": "5wgRWHY9LkJT"
      },
      "outputs": [],
      "source": [
        "# Compile the model\n",
        "model.compile(optimizer=Adam(learning_rate=0.001), loss='mean_squared_error')"
      ]
    },
    {
      "cell_type": "code",
      "execution_count": 91,
      "metadata": {
        "colab": {
          "base_uri": "https://localhost:8080/"
        },
        "id": "qmgsxCS8ODiQ",
        "outputId": "e703f819-3194-4d98-b3ae-abf1c0372b70"
      },
      "outputs": [
        {
          "name": "stdout",
          "output_type": "stream",
          "text": [
            "Model: \"model_3\"\n",
            "__________________________________________________________________________________________________\n",
            " Layer (type)                Output Shape                 Param #   Connected to                  \n",
            "==================================================================================================\n",
            " user_input (InputLayer)     [(None, 1)]                  0         []                            \n",
            "                                                                                                  \n",
            " cat_input (InputLayer)      [(None, 1)]                  0         []                            \n",
            "                                                                                                  \n",
            " gender_input (InputLayer)   [(None, 1)]                  0         []                            \n",
            "                                                                                                  \n",
            " size_input (InputLayer)     [(None, 1)]                  0         []                            \n",
            "                                                                                                  \n",
            " age_input (InputLayer)      [(None, 1)]                  0         []                            \n",
            "                                                                                                  \n",
            " embedding_12 (Embedding)    (None, 1, 50)                717000    ['user_input[0][0]']          \n",
            "                                                                                                  \n",
            " embedding_13 (Embedding)    (None, 1, 50)                1734150   ['cat_input[0][0]']           \n",
            "                                                                                                  \n",
            " embedding_14 (Embedding)    (None, 1, 50)                150       ['gender_input[0][0]']        \n",
            "                                                                                                  \n",
            " embedding_15 (Embedding)    (None, 1, 50)                200       ['size_input[0][0]']          \n",
            "                                                                                                  \n",
            " embedding_16 (Embedding)    (None, 1, 50)                200       ['age_input[0][0]']           \n",
            "                                                                                                  \n",
            " flatten_6 (Flatten)         (None, 50)                   0         ['embedding_12[0][0]']        \n",
            "                                                                                                  \n",
            " flatten_7 (Flatten)         (None, 50)                   0         ['embedding_13[0][0]']        \n",
            "                                                                                                  \n",
            " flatten_8 (Flatten)         (None, 50)                   0         ['embedding_14[0][0]']        \n",
            "                                                                                                  \n",
            " flatten_9 (Flatten)         (None, 50)                   0         ['embedding_15[0][0]']        \n",
            "                                                                                                  \n",
            " flatten_10 (Flatten)        (None, 50)                   0         ['embedding_16[0][0]']        \n",
            "                                                                                                  \n",
            " concatenate_2 (Concatenate  (None, 250)                  0         ['flatten_6[0][0]',           \n",
            " )                                                                   'flatten_7[0][0]',           \n",
            "                                                                     'flatten_8[0][0]',           \n",
            "                                                                     'flatten_9[0][0]',           \n",
            "                                                                     'flatten_10[0][0]']          \n",
            "                                                                                                  \n",
            " dense_3 (Dense)             (None, 128)                  32128     ['concatenate_2[0][0]']       \n",
            "                                                                                                  \n",
            " dense_4 (Dense)             (None, 64)                   8256      ['dense_3[0][0]']             \n",
            "                                                                                                  \n",
            " dense_5 (Dense)             (None, 1)                    65        ['dense_4[0][0]']             \n",
            "                                                                                                  \n",
            "==================================================================================================\n",
            "Total params: 2492149 (9.51 MB)\n",
            "Trainable params: 2492149 (9.51 MB)\n",
            "Non-trainable params: 0 (0.00 Byte)\n",
            "__________________________________________________________________________________________________\n"
          ]
        }
      ],
      "source": [
        "model.summary()"
      ]
    },
    {
      "cell_type": "code",
      "execution_count": 92,
      "metadata": {
        "colab": {
          "base_uri": "https://localhost:8080/"
        },
        "id": "fvMdXK08Lnmm",
        "outputId": "3f770001-16fd-48d0-e858-f6af122a4e53"
      },
      "outputs": [
        {
          "name": "stdout",
          "output_type": "stream",
          "text": [
            "Epoch 1/10\n",
            "347/347 [==============================] - 9s 23ms/step - loss: 1.4636 - val_loss: 0.8688\n",
            "Epoch 2/10\n",
            "347/347 [==============================] - 9s 25ms/step - loss: 0.4516 - val_loss: 0.9575\n",
            "Epoch 3/10\n",
            "347/347 [==============================] - 8s 24ms/step - loss: 0.2114 - val_loss: 0.9338\n",
            "Epoch 4/10\n",
            "347/347 [==============================] - 8s 24ms/step - loss: 0.0655 - val_loss: 0.9236\n",
            "Epoch 5/10\n",
            "347/347 [==============================] - 8s 23ms/step - loss: 0.0432 - val_loss: 0.9168\n",
            "Epoch 6/10\n",
            "347/347 [==============================] - 8s 23ms/step - loss: 0.0304 - val_loss: 0.9102\n",
            "Epoch 7/10\n",
            "347/347 [==============================] - 8s 24ms/step - loss: 0.0296 - val_loss: 0.9071\n",
            "Epoch 8/10\n",
            "347/347 [==============================] - 8s 23ms/step - loss: 0.0282 - val_loss: 0.9093\n",
            "Epoch 9/10\n",
            "347/347 [==============================] - 8s 24ms/step - loss: 0.0275 - val_loss: 0.9077\n",
            "Epoch 10/10\n",
            "347/347 [==============================] - 8s 24ms/step - loss: 0.0288 - val_loss: 0.9012\n"
          ]
        }
      ],
      "source": [
        "# Train the model\n",
        "history = model.fit(\n",
        "    x=[train_df['user_id'], train_df['cat_id'], train_df['gender'], train_df['size'], train_df['age']],\n",
        "    y=train_df['rating'],\n",
        "    epochs=10,\n",
        "    batch_size=64,\n",
        "    validation_split=0.2\n",
        ")\n"
      ]
    },
    {
      "cell_type": "code",
      "execution_count": 94,
      "metadata": {
        "colab": {
          "base_uri": "https://localhost:8080/"
        },
        "id": "7O1cnfLbMTUW",
        "outputId": "970bba1d-a44a-4d4d-93c6-382c7c848550"
      },
      "outputs": [
        {
          "name": "stdout",
          "output_type": "stream",
          "text": [
            "217/217 [==============================] - 0s 1ms/step - loss: 0.9147\n",
            "Test Loss: 0.914716899394989\n"
          ]
        }
      ],
      "source": [
        "# Evaluate the model on the test set\n",
        "test_loss = model.evaluate(\n",
        "    x=[test_df['user_id'], test_df['cat_id'], test_df['gender'], test_df['size'], test_df['age']],\n",
        "    y=test_df['rating']\n",
        ")\n",
        "\n",
        "print(f'Test Loss: {test_loss}')"
      ]
    },
    {
      "cell_type": "markdown",
      "metadata": {
        "id": "EglQ5aFjnhzJ"
      },
      "source": [
        "### Make predictions for a specific user"
      ]
    },
    {
      "cell_type": "code",
      "execution_count": 95,
      "metadata": {
        "colab": {
          "base_uri": "https://localhost:8080/"
        },
        "id": "bo88wC_GNuXE",
        "outputId": "8b22f177-c612-4c57-a8e7-0e7ff35b2150"
      },
      "outputs": [
        {
          "name": "stdout",
          "output_type": "stream",
          "text": [
            "1084/1084 [==============================] - 2s 1ms/step\n",
            "[25984. 10442. 13108. 26464. 24582.]\n"
          ]
        }
      ],
      "source": [
        "user_index_example = 0\n",
        "user_input_example = np.array([user_index_example] * num_cats)\n",
        "\n",
        "# Reshape input arrays for prediction\n",
        "user_input_example = np.reshape(user_input_example, (num_cats, 1))\n",
        "\n",
        "# Generate dummy indices for other features\n",
        "cat_indices = np.arange(num_cats)\n",
        "gender_indices = np.zeros_like(cat_indices)\n",
        "size_indices = np.zeros_like(cat_indices)\n",
        "age_indices = np.zeros_like(cat_indices)\n",
        "\n",
        "# Predictions\n",
        "predictions = model.predict([user_input_example, cat_indices, gender_indices, size_indices, age_indices])\n",
        "\n",
        "# Get top recommendations\n",
        "top_cat_indices = np.argsort(predictions.flatten())[::-1][:5]\n",
        "top_cat_ids = cat_encoder.inverse_transform(top_cat_indices)\n",
        "\n",
        "print(top_cat_ids)"
      ]
    },
    {
      "cell_type": "markdown",
      "metadata": {
        "id": "-29haipMecbb"
      },
      "source": [
        "### Save Model"
      ]
    },
    {
      "cell_type": "code",
      "execution_count": 96,
      "metadata": {
        "colab": {
          "base_uri": "https://localhost:8080/"
        },
        "id": "O1Yu0Tp4iSa9",
        "outputId": "a0312807-cd5a-4c61-e5b9-e349d449c791"
      },
      "outputs": [
        {
          "name": "stderr",
          "output_type": "stream",
          "text": [
            "C:\\Users\\USER\\AppData\\Local\\Packages\\PythonSoftwareFoundation.Python.3.11_qbz5n2kfra8p0\\LocalCache\\local-packages\\Python311\\site-packages\\keras\\src\\engine\\training.py:3000: UserWarning: You are saving your model as an HDF5 file via `model.save()`. This file format is considered legacy. We recommend using instead the native Keras format, e.g. `model.save('my_model.keras')`.\n",
            "  saving_api.save_model(\n"
          ]
        }
      ],
      "source": [
        "model.save(\"CF_model_kucingku.h5\")"
      ]
    },
    {
      "cell_type": "markdown",
      "metadata": {
        "id": "BucH8gdqqRsl"
      },
      "source": [
        "Read Dataset Cat"
      ]
    },
    {
      "cell_type": "code",
      "execution_count": 97,
      "metadata": {
        "colab": {
          "base_uri": "https://localhost:8080/"
        },
        "id": "Bn6txt8cqHCM",
        "outputId": "177cf9e3-b859-41df-eb2a-72d25459ac53"
      },
      "outputs": [
        {
          "name": "stdout",
          "output_type": "stream",
          "text": [
            "Group: model_weights\n",
            "Group: model_weights/age_input\n",
            "Group: model_weights/cat_input\n",
            "Group: model_weights/concatenate_2\n",
            "Group: model_weights/dense_3\n",
            "Group: model_weights/dense_3/dense_3\n",
            "Dataset: model_weights/dense_3/dense_3/bias:0\n",
            "Dataset: model_weights/dense_3/dense_3/kernel:0\n",
            "Group: model_weights/dense_4\n",
            "Group: model_weights/dense_4/dense_4\n",
            "Dataset: model_weights/dense_4/dense_4/bias:0\n",
            "Dataset: model_weights/dense_4/dense_4/kernel:0\n",
            "Group: model_weights/dense_5\n",
            "Group: model_weights/dense_5/dense_5\n",
            "Dataset: model_weights/dense_5/dense_5/bias:0\n",
            "Dataset: model_weights/dense_5/dense_5/kernel:0\n",
            "Group: model_weights/embedding_12\n",
            "Group: model_weights/embedding_12/embedding_12\n",
            "Dataset: model_weights/embedding_12/embedding_12/embeddings:0\n",
            "Group: model_weights/embedding_13\n",
            "Group: model_weights/embedding_13/embedding_13\n",
            "Dataset: model_weights/embedding_13/embedding_13/embeddings:0\n",
            "Group: model_weights/embedding_14\n",
            "Group: model_weights/embedding_14/embedding_14\n",
            "Dataset: model_weights/embedding_14/embedding_14/embeddings:0\n",
            "Group: model_weights/embedding_15\n",
            "Group: model_weights/embedding_15/embedding_15\n",
            "Dataset: model_weights/embedding_15/embedding_15/embeddings:0\n",
            "Group: model_weights/embedding_16\n",
            "Group: model_weights/embedding_16/embedding_16\n",
            "Dataset: model_weights/embedding_16/embedding_16/embeddings:0\n",
            "Group: model_weights/flatten_10\n",
            "Group: model_weights/flatten_6\n",
            "Group: model_weights/flatten_7\n",
            "Group: model_weights/flatten_8\n",
            "Group: model_weights/flatten_9\n",
            "Group: model_weights/gender_input\n",
            "Group: model_weights/size_input\n",
            "Group: model_weights/top_level_model_weights\n",
            "Group: model_weights/user_input\n",
            "Group: optimizer_weights\n",
            "Group: optimizer_weights/Adam\n",
            "Group: optimizer_weights/Adam/m\n",
            "Group: optimizer_weights/Adam/m/dense_3\n",
            "Dataset: optimizer_weights/Adam/m/dense_3/bias:0\n",
            "Dataset: optimizer_weights/Adam/m/dense_3/kernel:0\n",
            "Group: optimizer_weights/Adam/m/dense_4\n",
            "Dataset: optimizer_weights/Adam/m/dense_4/bias:0\n",
            "Dataset: optimizer_weights/Adam/m/dense_4/kernel:0\n",
            "Group: optimizer_weights/Adam/m/dense_5\n",
            "Dataset: optimizer_weights/Adam/m/dense_5/bias:0\n",
            "Dataset: optimizer_weights/Adam/m/dense_5/kernel:0\n",
            "Group: optimizer_weights/Adam/m/embedding_12\n",
            "Dataset: optimizer_weights/Adam/m/embedding_12/embeddings:0\n",
            "Group: optimizer_weights/Adam/m/embedding_13\n",
            "Dataset: optimizer_weights/Adam/m/embedding_13/embeddings:0\n",
            "Group: optimizer_weights/Adam/m/embedding_14\n",
            "Dataset: optimizer_weights/Adam/m/embedding_14/embeddings:0\n",
            "Group: optimizer_weights/Adam/m/embedding_15\n",
            "Dataset: optimizer_weights/Adam/m/embedding_15/embeddings:0\n",
            "Group: optimizer_weights/Adam/m/embedding_16\n",
            "Dataset: optimizer_weights/Adam/m/embedding_16/embeddings:0\n",
            "Group: optimizer_weights/Adam/v\n",
            "Group: optimizer_weights/Adam/v/dense_3\n",
            "Dataset: optimizer_weights/Adam/v/dense_3/bias:0\n",
            "Dataset: optimizer_weights/Adam/v/dense_3/kernel:0\n",
            "Group: optimizer_weights/Adam/v/dense_4\n",
            "Dataset: optimizer_weights/Adam/v/dense_4/bias:0\n",
            "Dataset: optimizer_weights/Adam/v/dense_4/kernel:0\n",
            "Group: optimizer_weights/Adam/v/dense_5\n",
            "Dataset: optimizer_weights/Adam/v/dense_5/bias:0\n",
            "Dataset: optimizer_weights/Adam/v/dense_5/kernel:0\n",
            "Group: optimizer_weights/Adam/v/embedding_12\n",
            "Dataset: optimizer_weights/Adam/v/embedding_12/embeddings:0\n",
            "Group: optimizer_weights/Adam/v/embedding_13\n",
            "Dataset: optimizer_weights/Adam/v/embedding_13/embeddings:0\n",
            "Group: optimizer_weights/Adam/v/embedding_14\n",
            "Dataset: optimizer_weights/Adam/v/embedding_14/embeddings:0\n",
            "Group: optimizer_weights/Adam/v/embedding_15\n",
            "Dataset: optimizer_weights/Adam/v/embedding_15/embeddings:0\n",
            "Group: optimizer_weights/Adam/v/embedding_16\n",
            "Dataset: optimizer_weights/Adam/v/embedding_16/embeddings:0\n",
            "Dataset: optimizer_weights/iteration:0\n"
          ]
        }
      ],
      "source": [
        "import h5py\n",
        "\n",
        "# Nama file H5 yang telah disimpan\n",
        "file_path = \"E:\\machine-learning\\model\\model elo\\CF_model_kucingku.h5\"\n",
        "\n",
        "# Membuka file H5\n",
        "with h5py.File(file_path, 'r') as file:\n",
        "    # Melihat struktur file H5\n",
        "    def print_h5_item(name, obj):\n",
        "        if isinstance(obj, h5py.Group):\n",
        "            print(f\"Group: {name}\")\n",
        "        elif isinstance(obj, h5py.Dataset):\n",
        "            print(f\"Dataset: {name}\")\n",
        "\n",
        "    file.visititems(print_h5_item)"
      ]
    },
    {
      "cell_type": "code",
      "execution_count": 99,
      "metadata": {},
      "outputs": [
        {
          "name": "stdout",
          "output_type": "stream",
          "text": [
            "217/217 [==============================] - 0s 2ms/step - loss: 0.9147\n",
            "Test Loss: 0.914716899394989\n"
          ]
        }
      ],
      "source": [
        "from tensorflow.keras.models import load_model\n",
        "\n",
        "# Load model yang telah disimpan\n",
        "loaded_model = load_model(\"E:\\machine-learning\\model\\model elo\\CF_model_kucingku.h5\")\n",
        "\n",
        "# Evaluate the loaded model on the test set\n",
        "test_loss = loaded_model.evaluate(\n",
        "    x=[test_df['user_id'], test_df['cat_id'], test_df['gender'], test_df['size'], test_df['age']],\n",
        "    y=test_df['rating'])\n",
        "print(f'Test Loss: {test_loss}')"
      ]
    },
    {
      "cell_type": "markdown",
      "metadata": {
        "id": "qfovXO5JuCTk"
      },
      "source": [
        "Uji Dataset KucingKu"
      ]
    },
    {
      "cell_type": "code",
      "execution_count": 100,
      "metadata": {
        "colab": {
          "base_uri": "https://localhost:8080/"
        },
        "id": "k5JzUVZ6stZn",
        "outputId": "115f4e06-0a2c-4162-a826-d3c9dcf61bd6"
      },
      "outputs": [
        {
          "name": "stdout",
          "output_type": "stream",
          "text": [
            "INFO:tensorflow:Assets written to: C:\\Users\\USER\\AppData\\Local\\Temp\\tmp1ok0ka6o\\assets\n"
          ]
        },
        {
          "name": "stderr",
          "output_type": "stream",
          "text": [
            "INFO:tensorflow:Assets written to: C:\\Users\\USER\\AppData\\Local\\Temp\\tmp1ok0ka6o\\assets\n"
          ]
        }
      ],
      "source": [
        "\n",
        "# Load the Keras model\n",
        "loaded_model = tf.keras.models.load_model(\"E:\\machine-learning\\model\\model elo\\CF_model_kucingku.h5\")\n",
        "\n",
        "# Convert the Keras model to TensorFlow Lite format\n",
        "converter = tf.lite.TFLiteConverter.from_keras_model(loaded_model)\n",
        "tflite_model = converter.convert()\n",
        "\n",
        "# Save the TensorFlow Lite model to a file\n",
        "with open(\"collaborative_model.tflite\", \"wb\") as f:\n",
        "    f.write(tflite_model)\n"
      ]
    }
  ],
  "metadata": {
    "colab": {
      "provenance": []
    },
    "kernelspec": {
      "display_name": "Python 3",
      "name": "python3"
    },
    "language_info": {
      "codemirror_mode": {
        "name": "ipython",
        "version": 3
      },
      "file_extension": ".py",
      "mimetype": "text/x-python",
      "name": "python",
      "nbconvert_exporter": "python",
      "pygments_lexer": "ipython3",
      "version": "3.11.7"
    }
  },
  "nbformat": 4,
  "nbformat_minor": 0
}
