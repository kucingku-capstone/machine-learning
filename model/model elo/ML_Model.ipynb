{
  "nbformat": 4,
  "nbformat_minor": 0,
  "metadata": {
    "colab": {
      "provenance": []
    },
    "kernelspec": {
      "name": "python3",
      "display_name": "Python 3"
    },
    "language_info": {
      "name": "python"
    }
  },
  "cells": [
    {
      "cell_type": "markdown",
      "source": [
        "Import Library\n"
      ],
      "metadata": {
        "id": "0TgQSTJ9Jwhy"
      }
    },
    {
      "cell_type": "code",
      "execution_count": null,
      "metadata": {
        "id": "tZD0dQzgJoGI"
      },
      "outputs": [],
      "source": [
        "import pandas as pd\n",
        "import numpy as np\n",
        "from sklearn.model_selection import train_test_split\n",
        "from sklearn.preprocessing import LabelEncoder\n",
        "import tensorflow as tf\n",
        "from tensorflow.keras.models import Model\n",
        "from tensorflow.keras.layers import Input, Embedding, Flatten, Dense, Concatenate\n",
        "from tensorflow.keras.optimizers import Adam"
      ]
    },
    {
      "cell_type": "markdown",
      "source": [
        "Load Dataset"
      ],
      "metadata": {
        "id": "9jtSSFZIJ0cz"
      }
    },
    {
      "cell_type": "code",
      "source": [
        "df = pd.read_csv('https://raw.githubusercontent.com/kucingku-capstone/machine-learning/main/dataset/cats_dataset_updated.csv')\n",
        "df"
      ],
      "metadata": {
        "id": "IfYVzP3dJ5sw",
        "colab": {
          "base_uri": "https://localhost:8080/",
          "height": 634
        },
        "outputId": "ab1b07a4-b4d6-4a50-a9ae-9b54b1e24370"
      },
      "execution_count": null,
      "outputs": [
        {
          "output_type": "execute_result",
          "data": {
            "text/plain": [
              "       Unnamed: 0    cat_id  \\\n",
              "0               0  46744842   \n",
              "1               1  46717321   \n",
              "2               2  46626338   \n",
              "3               3  46620170   \n",
              "4               4  46582751   \n",
              "...           ...       ...   \n",
              "70140        2995  50747837   \n",
              "70141        2996  50747838   \n",
              "70142        2997  50747839   \n",
              "70143        2998  50747840   \n",
              "70144        2999  50747841   \n",
              "\n",
              "                                                     url type     age  gender  \\\n",
              "0      https://www.petfinder.com/cat/arianna-46744842...  Cat   Adult  Female   \n",
              "1      https://www.petfinder.com/cat/ozzy-46717321/oh...  Cat   Adult    Male   \n",
              "2      https://www.petfinder.com/cat/zena-46626338/ca...  Cat  Senior  Female   \n",
              "3      https://www.petfinder.com/cat/mika-46620170/ca...  Cat    Baby  Female   \n",
              "4      https://www.petfinder.com/cat/ruby-46582751/fl...  Cat   Young  Female   \n",
              "...                                                  ...  ...     ...     ...   \n",
              "70140             https://rocha.net/app/exploreabout.jsp  Cat  Senior    Male   \n",
              "70141               http://www.cowan.org/blog/tagfaq.htm  Cat    Baby  Female   \n",
              "70142  http://hernandez-olson.info/posts/tag/tagabout...  Cat   Young    Male   \n",
              "70143  https://www.jefferson.com/tag/app/tagsregister...  Cat   Adult    Male   \n",
              "70144        http://www.davis-chavez.com/appcategory.php  Cat    Baby  Female   \n",
              "\n",
              "              size      coat       breed  \\\n",
              "0           Medium     Short  Abyssinian   \n",
              "1      Extra Large     Short  Abyssinian   \n",
              "2           Medium     Short  Abyssinian   \n",
              "3            Small     Short  Abyssinian   \n",
              "4           Medium     Short  Abyssinian   \n",
              "...            ...       ...         ...   \n",
              "70140        Large  Hairless      Sphynx   \n",
              "70141        Small  Hairless      Sphynx   \n",
              "70142        Small  Hairless      Sphynx   \n",
              "70143       Medium  Hairless      Sphynx   \n",
              "70144       Medium  Hairless      Sphynx   \n",
              "\n",
              "                                                  photos  \\\n",
              "0      [{'small': 'https://dl5zpyw5k3jeb.cloudfront.n...   \n",
              "1      [{'small': 'https://dl5zpyw5k3jeb.cloudfront.n...   \n",
              "2      [{'small': 'https://dl5zpyw5k3jeb.cloudfront.n...   \n",
              "3      [{'small': 'https://dl5zpyw5k3jeb.cloudfront.n...   \n",
              "4      [{'small': 'https://dl5zpyw5k3jeb.cloudfront.n...   \n",
              "...                                                  ...   \n",
              "70140  ['https://dummyimage.com/985x1001', 'https://p...   \n",
              "70141  ['https://dummyimage.com/746x855', 'https://pi...   \n",
              "70142  ['https://picsum.photos/804/428', 'https://pla...   \n",
              "70143  ['https://picsum.photos/381/221', 'https://dum...   \n",
              "70144  ['https://placekitten.com/89/964', 'https://pl...   \n",
              "\n",
              "                                              med_photos  user_id  rating  \n",
              "0      ['https://dl5zpyw5k3jeb.cloudfront.net/photos/...    11355    1.74  \n",
              "1      ['https://dl5zpyw5k3jeb.cloudfront.net/photos/...     2127    1.88  \n",
              "2      ['https://dl5zpyw5k3jeb.cloudfront.net/photos/...    14219    2.12  \n",
              "3      ['https://dl5zpyw5k3jeb.cloudfront.net/photos/...     8356    3.47  \n",
              "4      ['https://dl5zpyw5k3jeb.cloudfront.net/photos/...     8029    3.34  \n",
              "...                                                  ...      ...     ...  \n",
              "70140  ['https://dummyimage.com/61x139', 'https://pla...     7468    4.69  \n",
              "70141                                                 []     8556    3.99  \n",
              "70142                                                 []     8821    3.74  \n",
              "70143  ['https://picsum.photos/66/691', 'https://pics...     6816    4.00  \n",
              "70144  ['https://picsum.photos/672/857', 'https://dum...    10699    1.00  \n",
              "\n",
              "[70145 rows x 13 columns]"
            ],
            "text/html": [
              "\n",
              "  <div id=\"df-2ff455c0-db21-4d31-9091-133f9fbe8d96\" class=\"colab-df-container\">\n",
              "    <div>\n",
              "<style scoped>\n",
              "    .dataframe tbody tr th:only-of-type {\n",
              "        vertical-align: middle;\n",
              "    }\n",
              "\n",
              "    .dataframe tbody tr th {\n",
              "        vertical-align: top;\n",
              "    }\n",
              "\n",
              "    .dataframe thead th {\n",
              "        text-align: right;\n",
              "    }\n",
              "</style>\n",
              "<table border=\"1\" class=\"dataframe\">\n",
              "  <thead>\n",
              "    <tr style=\"text-align: right;\">\n",
              "      <th></th>\n",
              "      <th>Unnamed: 0</th>\n",
              "      <th>cat_id</th>\n",
              "      <th>url</th>\n",
              "      <th>type</th>\n",
              "      <th>age</th>\n",
              "      <th>gender</th>\n",
              "      <th>size</th>\n",
              "      <th>coat</th>\n",
              "      <th>breed</th>\n",
              "      <th>photos</th>\n",
              "      <th>med_photos</th>\n",
              "      <th>user_id</th>\n",
              "      <th>rating</th>\n",
              "    </tr>\n",
              "  </thead>\n",
              "  <tbody>\n",
              "    <tr>\n",
              "      <th>0</th>\n",
              "      <td>0</td>\n",
              "      <td>46744842</td>\n",
              "      <td>https://www.petfinder.com/cat/arianna-46744842...</td>\n",
              "      <td>Cat</td>\n",
              "      <td>Adult</td>\n",
              "      <td>Female</td>\n",
              "      <td>Medium</td>\n",
              "      <td>Short</td>\n",
              "      <td>Abyssinian</td>\n",
              "      <td>[{'small': 'https://dl5zpyw5k3jeb.cloudfront.n...</td>\n",
              "      <td>['https://dl5zpyw5k3jeb.cloudfront.net/photos/...</td>\n",
              "      <td>11355</td>\n",
              "      <td>1.74</td>\n",
              "    </tr>\n",
              "    <tr>\n",
              "      <th>1</th>\n",
              "      <td>1</td>\n",
              "      <td>46717321</td>\n",
              "      <td>https://www.petfinder.com/cat/ozzy-46717321/oh...</td>\n",
              "      <td>Cat</td>\n",
              "      <td>Adult</td>\n",
              "      <td>Male</td>\n",
              "      <td>Extra Large</td>\n",
              "      <td>Short</td>\n",
              "      <td>Abyssinian</td>\n",
              "      <td>[{'small': 'https://dl5zpyw5k3jeb.cloudfront.n...</td>\n",
              "      <td>['https://dl5zpyw5k3jeb.cloudfront.net/photos/...</td>\n",
              "      <td>2127</td>\n",
              "      <td>1.88</td>\n",
              "    </tr>\n",
              "    <tr>\n",
              "      <th>2</th>\n",
              "      <td>2</td>\n",
              "      <td>46626338</td>\n",
              "      <td>https://www.petfinder.com/cat/zena-46626338/ca...</td>\n",
              "      <td>Cat</td>\n",
              "      <td>Senior</td>\n",
              "      <td>Female</td>\n",
              "      <td>Medium</td>\n",
              "      <td>Short</td>\n",
              "      <td>Abyssinian</td>\n",
              "      <td>[{'small': 'https://dl5zpyw5k3jeb.cloudfront.n...</td>\n",
              "      <td>['https://dl5zpyw5k3jeb.cloudfront.net/photos/...</td>\n",
              "      <td>14219</td>\n",
              "      <td>2.12</td>\n",
              "    </tr>\n",
              "    <tr>\n",
              "      <th>3</th>\n",
              "      <td>3</td>\n",
              "      <td>46620170</td>\n",
              "      <td>https://www.petfinder.com/cat/mika-46620170/ca...</td>\n",
              "      <td>Cat</td>\n",
              "      <td>Baby</td>\n",
              "      <td>Female</td>\n",
              "      <td>Small</td>\n",
              "      <td>Short</td>\n",
              "      <td>Abyssinian</td>\n",
              "      <td>[{'small': 'https://dl5zpyw5k3jeb.cloudfront.n...</td>\n",
              "      <td>['https://dl5zpyw5k3jeb.cloudfront.net/photos/...</td>\n",
              "      <td>8356</td>\n",
              "      <td>3.47</td>\n",
              "    </tr>\n",
              "    <tr>\n",
              "      <th>4</th>\n",
              "      <td>4</td>\n",
              "      <td>46582751</td>\n",
              "      <td>https://www.petfinder.com/cat/ruby-46582751/fl...</td>\n",
              "      <td>Cat</td>\n",
              "      <td>Young</td>\n",
              "      <td>Female</td>\n",
              "      <td>Medium</td>\n",
              "      <td>Short</td>\n",
              "      <td>Abyssinian</td>\n",
              "      <td>[{'small': 'https://dl5zpyw5k3jeb.cloudfront.n...</td>\n",
              "      <td>['https://dl5zpyw5k3jeb.cloudfront.net/photos/...</td>\n",
              "      <td>8029</td>\n",
              "      <td>3.34</td>\n",
              "    </tr>\n",
              "    <tr>\n",
              "      <th>...</th>\n",
              "      <td>...</td>\n",
              "      <td>...</td>\n",
              "      <td>...</td>\n",
              "      <td>...</td>\n",
              "      <td>...</td>\n",
              "      <td>...</td>\n",
              "      <td>...</td>\n",
              "      <td>...</td>\n",
              "      <td>...</td>\n",
              "      <td>...</td>\n",
              "      <td>...</td>\n",
              "      <td>...</td>\n",
              "      <td>...</td>\n",
              "    </tr>\n",
              "    <tr>\n",
              "      <th>70140</th>\n",
              "      <td>2995</td>\n",
              "      <td>50747837</td>\n",
              "      <td>https://rocha.net/app/exploreabout.jsp</td>\n",
              "      <td>Cat</td>\n",
              "      <td>Senior</td>\n",
              "      <td>Male</td>\n",
              "      <td>Large</td>\n",
              "      <td>Hairless</td>\n",
              "      <td>Sphynx</td>\n",
              "      <td>['https://dummyimage.com/985x1001', 'https://p...</td>\n",
              "      <td>['https://dummyimage.com/61x139', 'https://pla...</td>\n",
              "      <td>7468</td>\n",
              "      <td>4.69</td>\n",
              "    </tr>\n",
              "    <tr>\n",
              "      <th>70141</th>\n",
              "      <td>2996</td>\n",
              "      <td>50747838</td>\n",
              "      <td>http://www.cowan.org/blog/tagfaq.htm</td>\n",
              "      <td>Cat</td>\n",
              "      <td>Baby</td>\n",
              "      <td>Female</td>\n",
              "      <td>Small</td>\n",
              "      <td>Hairless</td>\n",
              "      <td>Sphynx</td>\n",
              "      <td>['https://dummyimage.com/746x855', 'https://pi...</td>\n",
              "      <td>[]</td>\n",
              "      <td>8556</td>\n",
              "      <td>3.99</td>\n",
              "    </tr>\n",
              "    <tr>\n",
              "      <th>70142</th>\n",
              "      <td>2997</td>\n",
              "      <td>50747839</td>\n",
              "      <td>http://hernandez-olson.info/posts/tag/tagabout...</td>\n",
              "      <td>Cat</td>\n",
              "      <td>Young</td>\n",
              "      <td>Male</td>\n",
              "      <td>Small</td>\n",
              "      <td>Hairless</td>\n",
              "      <td>Sphynx</td>\n",
              "      <td>['https://picsum.photos/804/428', 'https://pla...</td>\n",
              "      <td>[]</td>\n",
              "      <td>8821</td>\n",
              "      <td>3.74</td>\n",
              "    </tr>\n",
              "    <tr>\n",
              "      <th>70143</th>\n",
              "      <td>2998</td>\n",
              "      <td>50747840</td>\n",
              "      <td>https://www.jefferson.com/tag/app/tagsregister...</td>\n",
              "      <td>Cat</td>\n",
              "      <td>Adult</td>\n",
              "      <td>Male</td>\n",
              "      <td>Medium</td>\n",
              "      <td>Hairless</td>\n",
              "      <td>Sphynx</td>\n",
              "      <td>['https://picsum.photos/381/221', 'https://dum...</td>\n",
              "      <td>['https://picsum.photos/66/691', 'https://pics...</td>\n",
              "      <td>6816</td>\n",
              "      <td>4.00</td>\n",
              "    </tr>\n",
              "    <tr>\n",
              "      <th>70144</th>\n",
              "      <td>2999</td>\n",
              "      <td>50747841</td>\n",
              "      <td>http://www.davis-chavez.com/appcategory.php</td>\n",
              "      <td>Cat</td>\n",
              "      <td>Baby</td>\n",
              "      <td>Female</td>\n",
              "      <td>Medium</td>\n",
              "      <td>Hairless</td>\n",
              "      <td>Sphynx</td>\n",
              "      <td>['https://placekitten.com/89/964', 'https://pl...</td>\n",
              "      <td>['https://picsum.photos/672/857', 'https://dum...</td>\n",
              "      <td>10699</td>\n",
              "      <td>1.00</td>\n",
              "    </tr>\n",
              "  </tbody>\n",
              "</table>\n",
              "<p>70145 rows × 13 columns</p>\n",
              "</div>\n",
              "    <div class=\"colab-df-buttons\">\n",
              "\n",
              "  <div class=\"colab-df-container\">\n",
              "    <button class=\"colab-df-convert\" onclick=\"convertToInteractive('df-2ff455c0-db21-4d31-9091-133f9fbe8d96')\"\n",
              "            title=\"Convert this dataframe to an interactive table.\"\n",
              "            style=\"display:none;\">\n",
              "\n",
              "  <svg xmlns=\"http://www.w3.org/2000/svg\" height=\"24px\" viewBox=\"0 -960 960 960\">\n",
              "    <path d=\"M120-120v-720h720v720H120Zm60-500h600v-160H180v160Zm220 220h160v-160H400v160Zm0 220h160v-160H400v160ZM180-400h160v-160H180v160Zm440 0h160v-160H620v160ZM180-180h160v-160H180v160Zm440 0h160v-160H620v160Z\"/>\n",
              "  </svg>\n",
              "    </button>\n",
              "\n",
              "  <style>\n",
              "    .colab-df-container {\n",
              "      display:flex;\n",
              "      gap: 12px;\n",
              "    }\n",
              "\n",
              "    .colab-df-convert {\n",
              "      background-color: #E8F0FE;\n",
              "      border: none;\n",
              "      border-radius: 50%;\n",
              "      cursor: pointer;\n",
              "      display: none;\n",
              "      fill: #1967D2;\n",
              "      height: 32px;\n",
              "      padding: 0 0 0 0;\n",
              "      width: 32px;\n",
              "    }\n",
              "\n",
              "    .colab-df-convert:hover {\n",
              "      background-color: #E2EBFA;\n",
              "      box-shadow: 0px 1px 2px rgba(60, 64, 67, 0.3), 0px 1px 3px 1px rgba(60, 64, 67, 0.15);\n",
              "      fill: #174EA6;\n",
              "    }\n",
              "\n",
              "    .colab-df-buttons div {\n",
              "      margin-bottom: 4px;\n",
              "    }\n",
              "\n",
              "    [theme=dark] .colab-df-convert {\n",
              "      background-color: #3B4455;\n",
              "      fill: #D2E3FC;\n",
              "    }\n",
              "\n",
              "    [theme=dark] .colab-df-convert:hover {\n",
              "      background-color: #434B5C;\n",
              "      box-shadow: 0px 1px 3px 1px rgba(0, 0, 0, 0.15);\n",
              "      filter: drop-shadow(0px 1px 2px rgba(0, 0, 0, 0.3));\n",
              "      fill: #FFFFFF;\n",
              "    }\n",
              "  </style>\n",
              "\n",
              "    <script>\n",
              "      const buttonEl =\n",
              "        document.querySelector('#df-2ff455c0-db21-4d31-9091-133f9fbe8d96 button.colab-df-convert');\n",
              "      buttonEl.style.display =\n",
              "        google.colab.kernel.accessAllowed ? 'block' : 'none';\n",
              "\n",
              "      async function convertToInteractive(key) {\n",
              "        const element = document.querySelector('#df-2ff455c0-db21-4d31-9091-133f9fbe8d96');\n",
              "        const dataTable =\n",
              "          await google.colab.kernel.invokeFunction('convertToInteractive',\n",
              "                                                    [key], {});\n",
              "        if (!dataTable) return;\n",
              "\n",
              "        const docLinkHtml = 'Like what you see? Visit the ' +\n",
              "          '<a target=\"_blank\" href=https://colab.research.google.com/notebooks/data_table.ipynb>data table notebook</a>'\n",
              "          + ' to learn more about interactive tables.';\n",
              "        element.innerHTML = '';\n",
              "        dataTable['output_type'] = 'display_data';\n",
              "        await google.colab.output.renderOutput(dataTable, element);\n",
              "        const docLink = document.createElement('div');\n",
              "        docLink.innerHTML = docLinkHtml;\n",
              "        element.appendChild(docLink);\n",
              "      }\n",
              "    </script>\n",
              "  </div>\n",
              "\n",
              "\n",
              "<div id=\"df-585d23a0-16e3-4572-a898-0562252da071\">\n",
              "  <button class=\"colab-df-quickchart\" onclick=\"quickchart('df-585d23a0-16e3-4572-a898-0562252da071')\"\n",
              "            title=\"Suggest charts\"\n",
              "            style=\"display:none;\">\n",
              "\n",
              "<svg xmlns=\"http://www.w3.org/2000/svg\" height=\"24px\"viewBox=\"0 0 24 24\"\n",
              "     width=\"24px\">\n",
              "    <g>\n",
              "        <path d=\"M19 3H5c-1.1 0-2 .9-2 2v14c0 1.1.9 2 2 2h14c1.1 0 2-.9 2-2V5c0-1.1-.9-2-2-2zM9 17H7v-7h2v7zm4 0h-2V7h2v10zm4 0h-2v-4h2v4z\"/>\n",
              "    </g>\n",
              "</svg>\n",
              "  </button>\n",
              "\n",
              "<style>\n",
              "  .colab-df-quickchart {\n",
              "      --bg-color: #E8F0FE;\n",
              "      --fill-color: #1967D2;\n",
              "      --hover-bg-color: #E2EBFA;\n",
              "      --hover-fill-color: #174EA6;\n",
              "      --disabled-fill-color: #AAA;\n",
              "      --disabled-bg-color: #DDD;\n",
              "  }\n",
              "\n",
              "  [theme=dark] .colab-df-quickchart {\n",
              "      --bg-color: #3B4455;\n",
              "      --fill-color: #D2E3FC;\n",
              "      --hover-bg-color: #434B5C;\n",
              "      --hover-fill-color: #FFFFFF;\n",
              "      --disabled-bg-color: #3B4455;\n",
              "      --disabled-fill-color: #666;\n",
              "  }\n",
              "\n",
              "  .colab-df-quickchart {\n",
              "    background-color: var(--bg-color);\n",
              "    border: none;\n",
              "    border-radius: 50%;\n",
              "    cursor: pointer;\n",
              "    display: none;\n",
              "    fill: var(--fill-color);\n",
              "    height: 32px;\n",
              "    padding: 0;\n",
              "    width: 32px;\n",
              "  }\n",
              "\n",
              "  .colab-df-quickchart:hover {\n",
              "    background-color: var(--hover-bg-color);\n",
              "    box-shadow: 0 1px 2px rgba(60, 64, 67, 0.3), 0 1px 3px 1px rgba(60, 64, 67, 0.15);\n",
              "    fill: var(--button-hover-fill-color);\n",
              "  }\n",
              "\n",
              "  .colab-df-quickchart-complete:disabled,\n",
              "  .colab-df-quickchart-complete:disabled:hover {\n",
              "    background-color: var(--disabled-bg-color);\n",
              "    fill: var(--disabled-fill-color);\n",
              "    box-shadow: none;\n",
              "  }\n",
              "\n",
              "  .colab-df-spinner {\n",
              "    border: 2px solid var(--fill-color);\n",
              "    border-color: transparent;\n",
              "    border-bottom-color: var(--fill-color);\n",
              "    animation:\n",
              "      spin 1s steps(1) infinite;\n",
              "  }\n",
              "\n",
              "  @keyframes spin {\n",
              "    0% {\n",
              "      border-color: transparent;\n",
              "      border-bottom-color: var(--fill-color);\n",
              "      border-left-color: var(--fill-color);\n",
              "    }\n",
              "    20% {\n",
              "      border-color: transparent;\n",
              "      border-left-color: var(--fill-color);\n",
              "      border-top-color: var(--fill-color);\n",
              "    }\n",
              "    30% {\n",
              "      border-color: transparent;\n",
              "      border-left-color: var(--fill-color);\n",
              "      border-top-color: var(--fill-color);\n",
              "      border-right-color: var(--fill-color);\n",
              "    }\n",
              "    40% {\n",
              "      border-color: transparent;\n",
              "      border-right-color: var(--fill-color);\n",
              "      border-top-color: var(--fill-color);\n",
              "    }\n",
              "    60% {\n",
              "      border-color: transparent;\n",
              "      border-right-color: var(--fill-color);\n",
              "    }\n",
              "    80% {\n",
              "      border-color: transparent;\n",
              "      border-right-color: var(--fill-color);\n",
              "      border-bottom-color: var(--fill-color);\n",
              "    }\n",
              "    90% {\n",
              "      border-color: transparent;\n",
              "      border-bottom-color: var(--fill-color);\n",
              "    }\n",
              "  }\n",
              "</style>\n",
              "\n",
              "  <script>\n",
              "    async function quickchart(key) {\n",
              "      const quickchartButtonEl =\n",
              "        document.querySelector('#' + key + ' button');\n",
              "      quickchartButtonEl.disabled = true;  // To prevent multiple clicks.\n",
              "      quickchartButtonEl.classList.add('colab-df-spinner');\n",
              "      try {\n",
              "        const charts = await google.colab.kernel.invokeFunction(\n",
              "            'suggestCharts', [key], {});\n",
              "      } catch (error) {\n",
              "        console.error('Error during call to suggestCharts:', error);\n",
              "      }\n",
              "      quickchartButtonEl.classList.remove('colab-df-spinner');\n",
              "      quickchartButtonEl.classList.add('colab-df-quickchart-complete');\n",
              "    }\n",
              "    (() => {\n",
              "      let quickchartButtonEl =\n",
              "        document.querySelector('#df-585d23a0-16e3-4572-a898-0562252da071 button');\n",
              "      quickchartButtonEl.style.display =\n",
              "        google.colab.kernel.accessAllowed ? 'block' : 'none';\n",
              "    })();\n",
              "  </script>\n",
              "</div>\n",
              "    </div>\n",
              "  </div>\n"
            ]
          },
          "metadata": {},
          "execution_count": 28
        }
      ]
    },
    {
      "cell_type": "code",
      "source": [
        "import matplotlib.pyplot as plt\n",
        "import seaborn as sns\n",
        "\n",
        "# Visualize 4 main category in dateset\n",
        "plt.figure(figsize=(15, 10))\n",
        "\n",
        "plt.subplot(2, 3, 1)\n",
        "sns.countplot(x='gender', data=df)\n",
        "plt.title('Gender Distribution')\n",
        "plt.xlabel('Gender')\n",
        "plt.ylabel('Count')\n",
        "\n",
        "plt.subplot(2, 3, 2)\n",
        "sns.countplot(x='size', data=df)\n",
        "plt.title('Size Distribution')\n",
        "plt.xlabel('Size')\n",
        "plt.ylabel('Count')\n",
        "\n",
        "plt.subplot(2, 3, 3)\n",
        "sns.countplot(x='age', data=df)\n",
        "plt.title('Age Distribution')\n",
        "plt.xlabel('Age')\n",
        "plt.ylabel('Count')\n",
        "\n",
        "plt.subplot(2, 3, 4)\n",
        "sns.countplot(x='coat', data=df)\n",
        "plt.title('Coat Distribution')\n",
        "plt.xlabel('Coat')\n",
        "plt.ylabel('Count')\n",
        "\n",
        "plt.tight_layout()\n",
        "plt.xticks(rotation=45)  # Rotate x-axis labels for better readability\n",
        "plt.show()\n"
      ],
      "metadata": {
        "colab": {
          "base_uri": "https://localhost:8080/",
          "height": 894
        },
        "id": "ZOT5bAxfkbUC",
        "outputId": "3339de75-eebd-42de-e447-f8d688bb33e9"
      },
      "execution_count": 40,
      "outputs": [
        {
          "output_type": "display_data",
          "data": {
            "text/plain": [
              "<Figure size 1500x1000 with 4 Axes>"
            ],
            "image/png": "[encoded data removed]"
          },
          "metadata": {}
        }
      ]
    },
    {
      "cell_type": "code",
      "source": [
        "# Get the top N breeds for visualization (change N as needed)\n",
        "top_n_breeds = 10\n",
        "top_breeds = df['breed'].value_counts().nlargest(top_n_breeds).index\n",
        "\n",
        "# Filter the dataframe for the top breeds\n",
        "top_breeds_df = df[df['breed'].isin(top_breeds)]\n",
        "\n",
        "# Visualize the distribution of the top N breeds\n",
        "plt.figure(figsize=(12, 8))\n",
        "sns.countplot(x='breed', data=top_breeds_df, order=top_breeds, palette='viridis')\n",
        "plt.title(f'Top {top_n_breeds} Cat Breeds Distribution')\n",
        "plt.xlabel('Cat Breed')\n",
        "plt.ylabel('Count')\n",
        "plt.xticks(rotation=45, ha='right')  # Rotate x-axis labels for better readability\n",
        "plt.tight_layout()\n",
        "plt.show()"
      ],
      "metadata": {
        "colab": {
          "base_uri": "https://localhost:8080/",
          "height": 807
        },
        "id": "oYiqGnr_2wlI",
        "outputId": "4270f5fb-33c5-4c84-fb36-6f4683781dd1"
      },
      "execution_count": 41,
      "outputs": [
        {
          "output_type": "display_data",
          "data": {
            "text/plain": [
              "<Figure size 1200x800 with 1 Axes>"
            ],
            "image/png": "[encoded data removed]"
          },
          "metadata": {}
        }
      ]
    },
    {
      "cell_type": "markdown",
      "source": [
        "### Data preprocessing"
      ],
      "metadata": {
        "id": "pcr4b3BDkUBq"
      }
    },
    {
      "cell_type": "code",
      "source": [
        "user_encoder = LabelEncoder()\n",
        "cat_encoder = LabelEncoder()\n",
        "gender_encoder = LabelEncoder()\n",
        "coat_encoder = LabelEncoder()\n",
        "size_encoder = LabelEncoder()\n",
        "age_encoder = LabelEncoder()"
      ],
      "metadata": {
        "id": "sizb9XwIKD5x"
      },
      "execution_count": null,
      "outputs": []
    },
    {
      "cell_type": "code",
      "source": [
        "df['user_id'] = user_encoder.fit_transform(df['user_id'].astype(str))\n",
        "df['cat_id'] = cat_encoder.fit_transform(df['cat_id'].astype(str))\n",
        "df['gender'] = gender_encoder.fit_transform(df['gender'].astype(str))\n",
        "df['coat'] = coat_encoder.fit_transform(df['coat'].astype(str))\n",
        "df['size'] = size_encoder.fit_transform(df['size'].astype(str))\n",
        "df['age'] = age_encoder.fit_transform(df['age'].astype(str))\n"
      ],
      "metadata": {
        "id": "8nUnOypGKLgr"
      },
      "execution_count": null,
      "outputs": []
    },
    {
      "cell_type": "code",
      "source": [
        "# Menyimpan nama kolom yang akan dihapus dalam sebuah list\n",
        "columns_to_drop = ['Unnamed: 0', 'type', 'url', 'photos', 'med_photos']\n",
        "\n",
        "# Menghapus kolom-kolom yang ada dalam list dari DataFrame\n",
        "df_cleaned = df.drop(columns=columns_to_drop, axis=1)\n",
        "\n",
        "# Menampilkan beberapa baris pertama dari DataFrame setelah penghapusan kolom\n",
        "print(df_cleaned.head())"
      ],
      "metadata": {
        "colab": {
          "base_uri": "https://localhost:8080/"
        },
        "id": "fyyW3THHKbPV",
        "outputId": "fa451f48-d808-430f-8319-d7f46e593dd1"
      },
      "execution_count": null,
      "outputs": [
        {
          "output_type": "stream",
          "name": "stdout",
          "text": [
            "   cat_id  age  gender  size  coat       breed  user_id  rating\n",
            "0   65691    0       0     2     3  Abyssinian     1508    1.74\n",
            "1   61631    0       1     0     3  Abyssinian     6255    1.88\n",
            "2   59042    2       0     2     3  Abyssinian     4690    2.12\n",
            "3   58886    1       0     3     3  Abyssinian    13175    3.47\n",
            "4   57794    3       0     2     3  Abyssinian    12812    3.34\n"
          ]
        }
      ]
    },
    {
      "cell_type": "markdown",
      "source": [
        "### Split the dataset into training and testing"
      ],
      "metadata": {
        "id": "uSjMQV4WkYR5"
      }
    },
    {
      "cell_type": "code",
      "source": [
        "train_df, test_df = train_test_split(df_cleaned, test_size=0.2, random_state=42)"
      ],
      "metadata": {
        "id": "E8cKmlNeK1w3"
      },
      "execution_count": null,
      "outputs": []
    },
    {
      "cell_type": "markdown",
      "source": [
        "### Create the collaborative filtering model using TensorFlow"
      ],
      "metadata": {
        "id": "Jc3XCh9FnYcb"
      }
    },
    {
      "cell_type": "code",
      "source": [
        "num_users = len(user_encoder.classes_)\n",
        "num_cats = len(cat_encoder.classes_)\n",
        "num_genders = len(gender_encoder.classes_)\n",
        "num_coats = len(coat_encoder.classes_)\n",
        "num_sizes = len(size_encoder.classes_)\n",
        "num_ages = len(age_encoder.classes_)"
      ],
      "metadata": {
        "id": "NalW65miK4O9"
      },
      "execution_count": null,
      "outputs": []
    },
    {
      "cell_type": "code",
      "source": [
        "embedding_size = 50"
      ],
      "metadata": {
        "id": "Pr9nRvysK67p"
      },
      "execution_count": null,
      "outputs": []
    },
    {
      "cell_type": "code",
      "source": [
        "# Define input layers\n",
        "user_input = Input(shape=(1,), name='user_input')\n",
        "cat_input = Input(shape=(1,), name='cat_input')\n",
        "gender_input = Input(shape=(1,), name='gender_input')\n",
        "coat_input = Input(shape=(1,), name='coat_input')\n",
        "size_input = Input(shape=(1,), name='size_input')\n",
        "age_input = Input(shape=(1,), name='age_input')"
      ],
      "metadata": {
        "id": "lNU_auk3K9Yc"
      },
      "execution_count": null,
      "outputs": []
    },
    {
      "cell_type": "code",
      "source": [
        "# Define embedding layers\n",
        "user_embedding = Embedding(input_dim=num_users, output_dim=embedding_size, input_length=1)(user_input)\n",
        "cat_embedding = Embedding(input_dim=num_cats, output_dim=embedding_size, input_length=1)(cat_input)\n",
        "gender_embedding = Embedding(input_dim=num_genders, output_dim=embedding_size, input_length=1)(gender_input)\n",
        "coat_embedding = Embedding(input_dim=num_coats, output_dim=embedding_size, input_length=1)(coat_input)\n",
        "size_embedding = Embedding(input_dim=num_sizes, output_dim=embedding_size, input_length=1)(size_input)\n",
        "age_embedding = Embedding(input_dim=num_ages, output_dim=embedding_size, input_length=1)(age_input)\n"
      ],
      "metadata": {
        "id": "gbtIC3hyLVS3"
      },
      "execution_count": null,
      "outputs": []
    },
    {
      "cell_type": "code",
      "source": [
        "# Flatten the embeddings\n",
        "user_embedding = Flatten()(user_embedding)\n",
        "cat_embedding = Flatten()(cat_embedding)\n",
        "gender_embedding = Flatten()(gender_embedding)\n",
        "coat_embedding = Flatten()(coat_embedding)\n",
        "size_embedding = Flatten()(size_embedding)\n",
        "age_embedding = Flatten()(age_embedding)"
      ],
      "metadata": {
        "id": "GRC-4Io_LbEp"
      },
      "execution_count": null,
      "outputs": []
    },
    {
      "cell_type": "code",
      "source": [
        "# Concatenate all embeddings\n",
        "concatenated = Concatenate()([user_embedding, cat_embedding, gender_embedding, coat_embedding, size_embedding, age_embedding])"
      ],
      "metadata": {
        "id": "PFiofdURLddD"
      },
      "execution_count": null,
      "outputs": []
    },
    {
      "cell_type": "code",
      "source": [
        "# Add additional dense layers\n",
        "dense_layer_1 = Dense(128, activation='relu')(concatenated)\n",
        "dense_layer_2 = Dense(64, activation='relu')(dense_layer_1)\n",
        "output = Dense(1)(dense_layer_2)"
      ],
      "metadata": {
        "id": "p-6ajTX5Lfgw"
      },
      "execution_count": null,
      "outputs": []
    },
    {
      "cell_type": "code",
      "source": [
        "# Combine all layers into a model\n",
        "model = Model(inputs=[user_input, cat_input, gender_input, coat_input, size_input, age_input], outputs=output)"
      ],
      "metadata": {
        "id": "TcybgCERLh3e"
      },
      "execution_count": null,
      "outputs": []
    },
    {
      "cell_type": "code",
      "source": [
        "# Compile the model\n",
        "model.compile(optimizer=Adam(learning_rate=0.001), loss='mean_squared_error')"
      ],
      "metadata": {
        "id": "5wgRWHY9LkJT"
      },
      "execution_count": null,
      "outputs": []
    },
    {
      "cell_type": "code",
      "source": [
        "model.summary()"
      ],
      "metadata": {
        "colab": {
          "base_uri": "https://localhost:8080/"
        },
        "id": "qmgsxCS8ODiQ",
        "outputId": "e703f819-3194-4d98-b3ae-abf1c0372b70"
      },
      "execution_count": null,
      "outputs": [
        {
          "output_type": "stream",
          "name": "stdout",
          "text": [
            "Model: \"model\"\n",
            "__________________________________________________________________________________________________\n",
            " Layer (type)                Output Shape                 Param #   Connected to                  \n",
            "==================================================================================================\n",
            " user_input (InputLayer)     [(None, 1)]                  0         []                            \n",
            "                                                                                                  \n",
            " cat_input (InputLayer)      [(None, 1)]                  0         []                            \n",
            "                                                                                                  \n",
            " gender_input (InputLayer)   [(None, 1)]                  0         []                            \n",
            "                                                                                                  \n",
            " coat_input (InputLayer)     [(None, 1)]                  0         []                            \n",
            "                                                                                                  \n",
            " size_input (InputLayer)     [(None, 1)]                  0         []                            \n",
            "                                                                                                  \n",
            " age_input (InputLayer)      [(None, 1)]                  0         []                            \n",
            "                                                                                                  \n",
            " embedding (Embedding)       (None, 1, 50)                750000    ['user_input[0][0]']          \n",
            "                                                                                                  \n",
            " embedding_1 (Embedding)     (None, 1, 50)                3504800   ['cat_input[0][0]']           \n",
            "                                                                                                  \n",
            " embedding_2 (Embedding)     (None, 1, 50)                150       ['gender_input[0][0]']        \n",
            "                                                                                                  \n",
            " embedding_3 (Embedding)     (None, 1, 50)                200       ['coat_input[0][0]']          \n",
            "                                                                                                  \n",
            " embedding_4 (Embedding)     (None, 1, 50)                200       ['size_input[0][0]']          \n",
            "                                                                                                  \n",
            " embedding_5 (Embedding)     (None, 1, 50)                200       ['age_input[0][0]']           \n",
            "                                                                                                  \n",
            " flatten (Flatten)           (None, 50)                   0         ['embedding[0][0]']           \n",
            "                                                                                                  \n",
            " flatten_1 (Flatten)         (None, 50)                   0         ['embedding_1[0][0]']         \n",
            "                                                                                                  \n",
            " flatten_2 (Flatten)         (None, 50)                   0         ['embedding_2[0][0]']         \n",
            "                                                                                                  \n",
            " flatten_3 (Flatten)         (None, 50)                   0         ['embedding_3[0][0]']         \n",
            "                                                                                                  \n",
            " flatten_4 (Flatten)         (None, 50)                   0         ['embedding_4[0][0]']         \n",
            "                                                                                                  \n",
            " flatten_5 (Flatten)         (None, 50)                   0         ['embedding_5[0][0]']         \n",
            "                                                                                                  \n",
            " concatenate (Concatenate)   (None, 300)                  0         ['flatten[0][0]',             \n",
            "                                                                     'flatten_1[0][0]',           \n",
            "                                                                     'flatten_2[0][0]',           \n",
            "                                                                     'flatten_3[0][0]',           \n",
            "                                                                     'flatten_4[0][0]',           \n",
            "                                                                     'flatten_5[0][0]']           \n",
            "                                                                                                  \n",
            " dense (Dense)               (None, 128)                  38528     ['concatenate[0][0]']         \n",
            "                                                                                                  \n",
            " dense_1 (Dense)             (None, 64)                   8256      ['dense[0][0]']               \n",
            "                                                                                                  \n",
            " dense_2 (Dense)             (None, 1)                    65        ['dense_1[0][0]']             \n",
            "                                                                                                  \n",
            "==================================================================================================\n",
            "Total params: 4302399 (16.41 MB)\n",
            "Trainable params: 4302399 (16.41 MB)\n",
            "Non-trainable params: 0 (0.00 Byte)\n",
            "__________________________________________________________________________________________________\n"
          ]
        }
      ]
    },
    {
      "cell_type": "code",
      "source": [
        "# Train the model\n",
        "history = model.fit(\n",
        "    x=[train_df['user_id'], train_df['cat_id'], train_df['gender'], train_df['coat'], train_df['size'], train_df['age']],\n",
        "    y=train_df['rating'],\n",
        "    epochs=10,\n",
        "    batch_size=64,\n",
        "    validation_split=0.2\n",
        ")\n"
      ],
      "metadata": {
        "colab": {
          "base_uri": "https://localhost:8080/"
        },
        "id": "fvMdXK08Lnmm",
        "outputId": "3f770001-16fd-48d0-e858-f6af122a4e53"
      },
      "execution_count": null,
      "outputs": [
        {
          "output_type": "stream",
          "name": "stdout",
          "text": [
            "Epoch 1/10\n",
            "702/702 [==============================] - 59s 81ms/step - loss: 1.1643 - val_loss: 0.8816\n",
            "Epoch 2/10\n",
            "702/702 [==============================] - 57s 81ms/step - loss: 0.4051 - val_loss: 0.9609\n",
            "Epoch 3/10\n",
            "702/702 [==============================] - 56s 80ms/step - loss: 0.1835 - val_loss: 0.9283\n",
            "Epoch 4/10\n",
            "702/702 [==============================] - 56s 80ms/step - loss: 0.1011 - val_loss: 0.9164\n",
            "Epoch 5/10\n",
            "702/702 [==============================] - 56s 80ms/step - loss: 0.0387 - val_loss: 0.9064\n",
            "Epoch 6/10\n",
            "702/702 [==============================] - 56s 79ms/step - loss: 0.0289 - val_loss: 0.9023\n",
            "Epoch 7/10\n",
            "702/702 [==============================] - 56s 79ms/step - loss: 0.0266 - val_loss: 0.8999\n",
            "Epoch 8/10\n",
            "702/702 [==============================] - 56s 79ms/step - loss: 0.0293 - val_loss: 0.9016\n",
            "Epoch 9/10\n",
            "702/702 [==============================] - 56s 80ms/step - loss: 0.0277 - val_loss: 0.8961\n",
            "Epoch 10/10\n",
            "702/702 [==============================] - 56s 80ms/step - loss: 0.0304 - val_loss: 0.8899\n"
          ]
        }
      ]
    },
    {
      "cell_type": "code",
      "source": [
        "# Evaluate the model on the test set\n",
        "test_loss = model.evaluate(\n",
        "    x=[test_df['user_id'], test_df['cat_id'], test_df['gender'], test_df['coat'], test_df['size'], test_df['age']],\n",
        "    y=test_df['rating']\n",
        ")\n",
        "\n",
        "print(f'Test Loss: {test_loss}')"
      ],
      "metadata": {
        "colab": {
          "base_uri": "https://localhost:8080/"
        },
        "id": "7O1cnfLbMTUW",
        "outputId": "970bba1d-a44a-4d4d-93c6-382c7c848550"
      },
      "execution_count": null,
      "outputs": [
        {
          "output_type": "stream",
          "name": "stdout",
          "text": [
            "439/439 [==============================] - 1s 2ms/step - loss: 0.8773\n",
            "Test Loss: 0.8772587180137634\n"
          ]
        }
      ]
    },
    {
      "cell_type": "markdown",
      "source": [
        "### Make predictions for a specific user"
      ],
      "metadata": {
        "id": "EglQ5aFjnhzJ"
      }
    },
    {
      "cell_type": "code",
      "source": [
        "user_index_example = 0\n",
        "user_input_example = np.array([user_index_example] * num_cats)\n",
        "\n",
        "# Reshape input arrays for prediction\n",
        "user_input_example = np.reshape(user_input_example, (num_cats, 1))\n",
        "\n",
        "# Generate dummy indices for other features\n",
        "cat_indices = np.arange(num_cats)\n",
        "gender_indices = np.zeros_like(cat_indices)\n",
        "coat_indices = np.zeros_like(cat_indices)\n",
        "size_indices = np.zeros_like(cat_indices)\n",
        "age_indices = np.zeros_like(cat_indices)\n",
        "\n",
        "# Predictions\n",
        "predictions = model.predict([user_input_example, cat_indices, gender_indices, coat_indices, size_indices, age_indices])\n",
        "\n",
        "# Get top recommendations\n",
        "top_cat_indices = np.argsort(predictions.flatten())[::-1][:5]\n",
        "top_cat_ids = cat_encoder.inverse_transform(top_cat_indices)\n",
        "\n",
        "print(top_cat_ids)"
      ],
      "metadata": {
        "colab": {
          "base_uri": "https://localhost:8080/"
        },
        "id": "bo88wC_GNuXE",
        "outputId": "8b22f177-c612-4c57-a8e7-0e7ff35b2150"
      },
      "execution_count": null,
      "outputs": [
        {
          "output_type": "stream",
          "name": "stdout",
          "text": [
            "2191/2191 [==============================] - 6s 3ms/step\n",
            "['44594016' '42290284' '37071069' '45203201' '46280251']\n"
          ]
        }
      ]
    },
    {
      "cell_type": "markdown",
      "source": [
        "### Save Model"
      ],
      "metadata": {
        "id": "-29haipMecbb"
      }
    },
    {
      "cell_type": "code",
      "source": [
        "model.save(\"CF_model_kucingku.h5\")"
      ],
      "metadata": {
        "colab": {
          "base_uri": "https://localhost:8080/"
        },
        "id": "O1Yu0Tp4iSa9",
        "outputId": "a0312807-cd5a-4c61-e5b9-e349d449c791"
      },
      "execution_count": null,
      "outputs": [
        {
          "output_type": "stream",
          "name": "stderr",
          "text": [
            "/usr/local/lib/python3.10/dist-packages/keras/src/engine/training.py:3079: UserWarning: You are saving your model as an HDF5 file via `model.save()`. This file format is considered legacy. We recommend using instead the native Keras format, e.g. `model.save('my_model.keras')`.\n",
            "  saving_api.save_model(\n"
          ]
        }
      ]
    },
    {
      "cell_type": "markdown",
      "source": [
        "Read Dataset Cat"
      ],
      "metadata": {
        "id": "BucH8gdqqRsl"
      }
    },
    {
      "cell_type": "code",
      "source": [
        "import h5py\n",
        "\n",
        "# Nama file H5 yang telah disimpan\n",
        "file_path = \"/content/CF_model_kucingku.h5\"\n",
        "\n",
        "# Membuka file H5\n",
        "with h5py.File(file_path, 'r') as file:\n",
        "    # Melihat struktur file H5\n",
        "    def print_h5_item(name, obj):\n",
        "        if isinstance(obj, h5py.Group):\n",
        "            print(f\"Group: {name}\")\n",
        "        elif isinstance(obj, h5py.Dataset):\n",
        "            print(f\"Dataset: {name}\")\n",
        "\n",
        "    file.visititems(print_h5_item)"
      ],
      "metadata": {
        "colab": {
          "base_uri": "https://localhost:8080/"
        },
        "id": "Bn6txt8cqHCM",
        "outputId": "177cf9e3-b859-41df-eb2a-72d25459ac53"
      },
      "execution_count": null,
      "outputs": [
        {
          "output_type": "stream",
          "name": "stdout",
          "text": [
            "Group: model_weights\n",
            "Group: model_weights/age_input\n",
            "Group: model_weights/cat_input\n",
            "Group: model_weights/coat_input\n",
            "Group: model_weights/concatenate\n",
            "Group: model_weights/dense\n",
            "Group: model_weights/dense/dense\n",
            "Dataset: model_weights/dense/dense/bias:0\n",
            "Dataset: model_weights/dense/dense/kernel:0\n",
            "Group: model_weights/dense_1\n",
            "Group: model_weights/dense_1/dense_1\n",
            "Dataset: model_weights/dense_1/dense_1/bias:0\n",
            "Dataset: model_weights/dense_1/dense_1/kernel:0\n",
            "Group: model_weights/dense_2\n",
            "Group: model_weights/dense_2/dense_2\n",
            "Dataset: model_weights/dense_2/dense_2/bias:0\n",
            "Dataset: model_weights/dense_2/dense_2/kernel:0\n",
            "Group: model_weights/embedding\n",
            "Group: model_weights/embedding/embedding\n",
            "Dataset: model_weights/embedding/embedding/embeddings:0\n",
            "Group: model_weights/embedding_1\n",
            "Group: model_weights/embedding_1/embedding_1\n",
            "Dataset: model_weights/embedding_1/embedding_1/embeddings:0\n",
            "Group: model_weights/embedding_2\n",
            "Group: model_weights/embedding_2/embedding_2\n",
            "Dataset: model_weights/embedding_2/embedding_2/embeddings:0\n",
            "Group: model_weights/embedding_3\n",
            "Group: model_weights/embedding_3/embedding_3\n",
            "Dataset: model_weights/embedding_3/embedding_3/embeddings:0\n",
            "Group: model_weights/embedding_4\n",
            "Group: model_weights/embedding_4/embedding_4\n",
            "Dataset: model_weights/embedding_4/embedding_4/embeddings:0\n",
            "Group: model_weights/embedding_5\n",
            "Group: model_weights/embedding_5/embedding_5\n",
            "Dataset: model_weights/embedding_5/embedding_5/embeddings:0\n",
            "Group: model_weights/flatten\n",
            "Group: model_weights/flatten_1\n",
            "Group: model_weights/flatten_2\n",
            "Group: model_weights/flatten_3\n",
            "Group: model_weights/flatten_4\n",
            "Group: model_weights/flatten_5\n",
            "Group: model_weights/gender_input\n",
            "Group: model_weights/size_input\n",
            "Group: model_weights/top_level_model_weights\n",
            "Group: model_weights/user_input\n",
            "Group: optimizer_weights\n",
            "Group: optimizer_weights/Adam\n",
            "Group: optimizer_weights/Adam/m\n",
            "Group: optimizer_weights/Adam/m/dense\n",
            "Dataset: optimizer_weights/Adam/m/dense/bias:0\n",
            "Dataset: optimizer_weights/Adam/m/dense/kernel:0\n",
            "Group: optimizer_weights/Adam/m/dense_1\n",
            "Dataset: optimizer_weights/Adam/m/dense_1/bias:0\n",
            "Dataset: optimizer_weights/Adam/m/dense_1/kernel:0\n",
            "Group: optimizer_weights/Adam/m/dense_2\n",
            "Dataset: optimizer_weights/Adam/m/dense_2/bias:0\n",
            "Dataset: optimizer_weights/Adam/m/dense_2/kernel:0\n",
            "Group: optimizer_weights/Adam/m/embedding\n",
            "Dataset: optimizer_weights/Adam/m/embedding/embeddings:0\n",
            "Group: optimizer_weights/Adam/m/embedding_1\n",
            "Dataset: optimizer_weights/Adam/m/embedding_1/embeddings:0\n",
            "Group: optimizer_weights/Adam/m/embedding_2\n",
            "Dataset: optimizer_weights/Adam/m/embedding_2/embeddings:0\n",
            "Group: optimizer_weights/Adam/m/embedding_3\n",
            "Dataset: optimizer_weights/Adam/m/embedding_3/embeddings:0\n",
            "Group: optimizer_weights/Adam/m/embedding_4\n",
            "Dataset: optimizer_weights/Adam/m/embedding_4/embeddings:0\n",
            "Group: optimizer_weights/Adam/m/embedding_5\n",
            "Dataset: optimizer_weights/Adam/m/embedding_5/embeddings:0\n",
            "Group: optimizer_weights/Adam/v\n",
            "Group: optimizer_weights/Adam/v/dense\n",
            "Dataset: optimizer_weights/Adam/v/dense/bias:0\n",
            "Dataset: optimizer_weights/Adam/v/dense/kernel:0\n",
            "Group: optimizer_weights/Adam/v/dense_1\n",
            "Dataset: optimizer_weights/Adam/v/dense_1/bias:0\n",
            "Dataset: optimizer_weights/Adam/v/dense_1/kernel:0\n",
            "Group: optimizer_weights/Adam/v/dense_2\n",
            "Dataset: optimizer_weights/Adam/v/dense_2/bias:0\n",
            "Dataset: optimizer_weights/Adam/v/dense_2/kernel:0\n",
            "Group: optimizer_weights/Adam/v/embedding\n",
            "Dataset: optimizer_weights/Adam/v/embedding/embeddings:0\n",
            "Group: optimizer_weights/Adam/v/embedding_1\n",
            "Dataset: optimizer_weights/Adam/v/embedding_1/embeddings:0\n",
            "Group: optimizer_weights/Adam/v/embedding_2\n",
            "Dataset: optimizer_weights/Adam/v/embedding_2/embeddings:0\n",
            "Group: optimizer_weights/Adam/v/embedding_3\n",
            "Dataset: optimizer_weights/Adam/v/embedding_3/embeddings:0\n",
            "Group: optimizer_weights/Adam/v/embedding_4\n",
            "Dataset: optimizer_weights/Adam/v/embedding_4/embeddings:0\n",
            "Group: optimizer_weights/Adam/v/embedding_5\n",
            "Dataset: optimizer_weights/Adam/v/embedding_5/embeddings:0\n",
            "Dataset: optimizer_weights/iteration:0\n"
          ]
        }
      ]
    },
    {
      "cell_type": "markdown",
      "source": [
        "Uji Dataset KucingKu"
      ],
      "metadata": {
        "id": "qfovXO5JuCTk"
      }
    },
    {
      "cell_type": "code",
      "source": [
        "from tensorflow.keras.models import load_model\n",
        "\n",
        "# Load model yang telah disimpan\n",
        "loaded_model = load_model(\"/content/CF_model_kucingku.h5\")\n",
        "\n",
        "# Contoh penggunaan model untuk mendapatkan rekomendasi\n",
        "user_index_example = 0\n",
        "user_input_example = np.array([user_index_example])\n",
        "cat_indices = np.array(range(num_cats))\n",
        "\n",
        "# Bentuk ulang array input untuk prediksi\n",
        "user_input_example = user_input_example.repeat(num_cats)  # Ulangi nilai user_index_example sebanyak num_cats\n",
        "user_input_example = user_input_example.reshape(-1, 1)  # Bentuk ulang array menjadi kolom tunggal\n",
        "\n",
        "# Lakukan prediksi dengan model yang telah dimuat\n",
        "predictions = loaded_model.predict([user_input_example, cat_indices, gender_indices, coat_indices, size_indices, age_indices])\n",
        "\n",
        "# Dapatkan top rekomendasi\n",
        "top_cat_indices = np.argsort(predictions.flatten())[::-1][:5]\n",
        "top_cat_ids = cat_encoder.inverse_transform(top_cat_indices)\n",
        "\n",
        "print(top_cat_ids)\n"
      ],
      "metadata": {
        "colab": {
          "base_uri": "https://localhost:8080/"
        },
        "id": "k5JzUVZ6stZn",
        "outputId": "115f4e06-0a2c-4162-a826-d3c9dcf61bd6"
      },
      "execution_count": null,
      "outputs": [
        {
          "output_type": "stream",
          "name": "stdout",
          "text": [
            "2191/2191 [==============================] - 6s 3ms/step\n",
            "['43271263' '50745381' '34877057' '46721575' '44637111']\n"
          ]
        }
      ]
    },
    {
      "cell_type": "code",
      "source": [
        "# Menyiapkan array input untuk setiap pengguna\n",
        "num_users_to_test = 5  # Misalnya, kita ingin menguji 5 pengguna\n",
        "user_indices_to_test = np.arange(num_users_to_test)\n",
        "\n",
        "# Lakukan prediksi untuk setiap pengguna\n",
        "for user_index in user_indices_to_test:\n",
        "    user_input_example = np.array([user_index])\n",
        "    cat_indices = np.array(range(num_cats))\n",
        "\n",
        "    # Bentuk ulang array input untuk prediksi\n",
        "    user_input_example = user_input_example.repeat(num_cats)\n",
        "    user_input_example = user_input_example.reshape(-1, 1)\n",
        "\n",
        "    # Lakukan prediksi dengan model yang telah dimuat\n",
        "    predictions = loaded_model.predict([user_input_example, cat_indices, gender_indices, coat_indices, size_indices, age_indices])\n",
        "\n",
        "    # Dapatkan top rekomendasi\n",
        "    top_cat_indices = np.argsort(predictions.flatten())[::-1][:5]\n",
        "    top_cat_ids = cat_encoder.inverse_transform(top_cat_indices)\n",
        "\n",
        "    # Tampilkan hasil untuk setiap pengguna\n",
        "    print(f\"Top 5 Cat IDs for User {user_index}: {top_cat_ids}\")"
      ],
      "metadata": {
        "colab": {
          "base_uri": "https://localhost:8080/"
        },
        "id": "W28jd-UPtuBw",
        "outputId": "fea59a59-5585-48d8-a08d-1e4663b86779"
      },
      "execution_count": null,
      "outputs": [
        {
          "output_type": "stream",
          "name": "stdout",
          "text": [
            "2191/2191 [==============================] - 5s 2ms/step\n",
            "Top 5 Cat IDs for User 0: ['43271263' '50745381' '34877057' '46721575' '44637111']\n",
            "2191/2191 [==============================] - 4s 2ms/step\n",
            "Top 5 Cat IDs for User 1: ['43271263' '50745381' '34877057' '46721575' '44637111']\n",
            "2191/2191 [==============================] - 4s 2ms/step\n",
            "Top 5 Cat IDs for User 2: ['43271263' '50745381' '34877057' '46721575' '44637111']\n",
            "2191/2191 [==============================] - 4s 2ms/step\n",
            "Top 5 Cat IDs for User 3: ['43271263' '50745381' '34877057' '46721575' '44637111']\n",
            "2191/2191 [==============================] - 4s 2ms/step\n",
            "Top 5 Cat IDs for User 4: ['43271263' '50745381' '34877057' '46721575' '44637111']\n"
          ]
        }
      ]
    }
  ]
}